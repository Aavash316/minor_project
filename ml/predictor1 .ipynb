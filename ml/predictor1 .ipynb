{
 "cells": [
  {
   "cell_type": "code",
   "execution_count": 57,
   "id": "d3ec3652",
   "metadata": {},
   "outputs": [],
   "source": [
    "from telnetlib import X3PAD\n",
    "import pandas as pd\n",
    "import numpy as np\n",
    "from sklearn.preprocessing import StandardScaler\n",
    "import matplotlib.pyplot as plt \n",
    "\n",
    "from sklearn.utils import shuffle\n",
    "import pickle \n",
    "\n"
   ]
  },
  {
   "cell_type": "code",
   "execution_count": 58,
   "id": "80f6dcc1",
   "metadata": {},
   "outputs": [],
   "source": [
    "df_2020 = pd.read_csv('merged_gw2020.csv',low_memory = False)\n",
    "df_2021 = pd.read_csv('merged_gw2021.csv',low_memory = False)\n"
   ]
  },
  {
   "cell_type": "code",
   "execution_count": 59,
   "id": "bea0155b",
   "metadata": {},
   "outputs": [],
   "source": [
    "season_2020 = pd.DataFrame({'season' : ['2019/20']*df_2020.shape[0]   })\n",
    "season_2021 = pd.DataFrame({'season' : ['2020/21']*df_2021.shape[0]   })"
   ]
  },
  {
   "cell_type": "code",
   "execution_count": 60,
   "id": "e4507038",
   "metadata": {},
   "outputs": [],
   "source": [
    "df_2020 =pd.concat([df_2020, season_2020] ,axis = 'columns')\n",
    "df_2021 =pd.concat([df_2021, season_2021] ,axis = 'columns')\n"
   ]
  },
  {
   "cell_type": "code",
   "execution_count": 61,
   "id": "187873f2",
   "metadata": {},
   "outputs": [],
   "source": [
    "df= pd.concat([df_2020 , df_2021], axis = 'index',ignore_index = True)\n"
   ]
  },
  {
   "cell_type": "code",
   "execution_count": 62,
   "id": "14553a8b",
   "metadata": {},
   "outputs": [],
   "source": [
    "df[\"was_home\"] = df[\"was_home\"].astype(int)"
   ]
  },
  {
   "cell_type": "code",
   "execution_count": 63,
   "id": "20924c05",
   "metadata": {},
   "outputs": [],
   "source": [
    "df.sort_values(by=['name','season','GW'], inplace =True)\n",
    "df.reset_index(inplace = True)\n",
    "\n",
    "\n",
    "df.drop(['index'],axis= 'columns' , inplace =True)"
   ]
  },
  {
   "cell_type": "code",
   "execution_count": 64,
   "id": "738f3dbf",
   "metadata": {},
   "outputs": [],
   "source": [
    "df['id'] = df.groupby(['name']).ngroup()"
   ]
  },
  {
   "cell_type": "code",
   "execution_count": 65,
   "id": "94640366",
   "metadata": {},
   "outputs": [],
   "source": [
    "df['pos']= df.groupby(['position']).ngroup()"
   ]
  },
  {
   "cell_type": "code",
   "execution_count": 66,
   "id": "2b7fe921",
   "metadata": {},
   "outputs": [],
   "source": [
    "df['teams'] = df.groupby(['team']).ngroup()"
   ]
  },
  {
   "cell_type": "code",
   "execution_count": 67,
   "id": "dc081986",
   "metadata": {},
   "outputs": [],
   "source": [
    "identity = df['id'].unique()"
   ]
  },
  {
   "cell_type": "markdown",
   "id": "bc4dcf50",
   "metadata": {},
   "source": [
    "### Enter the gameweek \n"
   ]
  },
  {
   "cell_type": "code",
   "execution_count": null,
   "id": "a2521f4a",
   "metadata": {},
   "outputs": [],
   "source": []
  },
  {
   "cell_type": "code",
   "execution_count": 68,
   "id": "a8dbfa8a",
   "metadata": {},
   "outputs": [],
   "source": [
    "x = 35"
   ]
  },
  {
   "cell_type": "code",
   "execution_count": null,
   "id": "149b2bc0",
   "metadata": {},
   "outputs": [],
   "source": [
    "\n"
   ]
  },
  {
   "cell_type": "markdown",
   "id": "e3c6b35e",
   "metadata": {},
   "source": []
  },
  {
   "cell_type": "code",
   "execution_count": 69,
   "id": "9e696f59",
   "metadata": {},
   "outputs": [
    {
     "data": {
      "text/html": [
       "<div>\n",
       "<style scoped>\n",
       "    .dataframe tbody tr th:only-of-type {\n",
       "        vertical-align: middle;\n",
       "    }\n",
       "\n",
       "    .dataframe tbody tr th {\n",
       "        vertical-align: top;\n",
       "    }\n",
       "\n",
       "    .dataframe thead th {\n",
       "        text-align: right;\n",
       "    }\n",
       "</style>\n",
       "<table border=\"1\" class=\"dataframe\">\n",
       "  <thead>\n",
       "    <tr style=\"text-align: right;\">\n",
       "      <th></th>\n",
       "      <th>id</th>\n",
       "      <th>name</th>\n",
       "      <th>position</th>\n",
       "      <th>team</th>\n",
       "    </tr>\n",
       "  </thead>\n",
       "  <tbody>\n",
       "    <tr>\n",
       "      <th>0</th>\n",
       "      <td>0</td>\n",
       "      <td>Aaron Connolly</td>\n",
       "      <td>FWD</td>\n",
       "      <td>Brighton</td>\n",
       "    </tr>\n",
       "    <tr>\n",
       "      <th>73</th>\n",
       "      <td>1</td>\n",
       "      <td>Aaron Cresswell</td>\n",
       "      <td>DEF</td>\n",
       "      <td>West Ham</td>\n",
       "    </tr>\n",
       "    <tr>\n",
       "      <th>146</th>\n",
       "      <td>2</td>\n",
       "      <td>Aaron Lennon</td>\n",
       "      <td>MID</td>\n",
       "      <td>Burnley</td>\n",
       "    </tr>\n",
       "    <tr>\n",
       "      <th>178</th>\n",
       "      <td>3</td>\n",
       "      <td>Aaron Mooy</td>\n",
       "      <td>MID</td>\n",
       "      <td>Brighton</td>\n",
       "    </tr>\n",
       "    <tr>\n",
       "      <th>216</th>\n",
       "      <td>4</td>\n",
       "      <td>Aaron Ramsdale</td>\n",
       "      <td>GK</td>\n",
       "      <td>Sheffield Utd</td>\n",
       "    </tr>\n",
       "    <tr>\n",
       "      <th>...</th>\n",
       "      <td>...</td>\n",
       "      <td>...</td>\n",
       "      <td>...</td>\n",
       "      <td>...</td>\n",
       "    </tr>\n",
       "    <tr>\n",
       "      <th>46799</th>\n",
       "      <td>978</td>\n",
       "      <td>Zak Swanson</td>\n",
       "      <td>DEF</td>\n",
       "      <td>Arsenal</td>\n",
       "    </tr>\n",
       "    <tr>\n",
       "      <th>46811</th>\n",
       "      <td>979</td>\n",
       "      <td>Zeze Steven Sessegnon</td>\n",
       "      <td>DEF</td>\n",
       "      <td>Fulham</td>\n",
       "    </tr>\n",
       "    <tr>\n",
       "      <th>46849</th>\n",
       "      <td>980</td>\n",
       "      <td>Álvaro Fernández</td>\n",
       "      <td>GK</td>\n",
       "      <td>Brentford</td>\n",
       "    </tr>\n",
       "    <tr>\n",
       "      <th>46886</th>\n",
       "      <td>981</td>\n",
       "      <td>Çaglar Söyüncü</td>\n",
       "      <td>DEF</td>\n",
       "      <td>Leicester</td>\n",
       "    </tr>\n",
       "    <tr>\n",
       "      <th>46957</th>\n",
       "      <td>982</td>\n",
       "      <td>Ørjan Nyland</td>\n",
       "      <td>GK</td>\n",
       "      <td>Aston Villa</td>\n",
       "    </tr>\n",
       "  </tbody>\n",
       "</table>\n",
       "<p>983 rows × 4 columns</p>\n",
       "</div>"
      ],
      "text/plain": [
       "        id                   name position           team\n",
       "0        0         Aaron Connolly      FWD       Brighton\n",
       "73       1        Aaron Cresswell      DEF       West Ham\n",
       "146      2           Aaron Lennon      MID        Burnley\n",
       "178      3             Aaron Mooy      MID       Brighton\n",
       "216      4         Aaron Ramsdale       GK  Sheffield Utd\n",
       "...    ...                    ...      ...            ...\n",
       "46799  978            Zak Swanson      DEF        Arsenal\n",
       "46811  979  Zeze Steven Sessegnon      DEF         Fulham\n",
       "46849  980       Álvaro Fernández       GK      Brentford\n",
       "46886  981         Çaglar Söyüncü      DEF      Leicester\n",
       "46957  982           Ørjan Nyland       GK    Aston Villa\n",
       "\n",
       "[983 rows x 4 columns]"
      ]
     },
     "execution_count": 69,
     "metadata": {},
     "output_type": "execute_result"
    }
   ],
   "source": [
    "\n",
    "df_id = df.loc[: , ['id', 'name' ,'position' ,'team']]\n",
    "df_id.reset_index(inplace = True)\n",
    "df_id.drop_duplicates(subset='id',keep = 'first',inplace = True)\n",
    "\n",
    "df_id.drop(['index'],axis= 'columns' , inplace =True)\n",
    "df_id"
   ]
  },
  {
   "cell_type": "code",
   "execution_count": 70,
   "id": "9873c9b5",
   "metadata": {},
   "outputs": [],
   "source": [
    "y=x\n",
    "Gameweeks=[]"
   ]
  },
  {
   "cell_type": "code",
   "execution_count": 71,
   "id": "dc1aa8f0",
   "metadata": {},
   "outputs": [],
   "source": [
    "for i in range(5):\n",
    "    Gameweeks.append(y)\n",
    "    y=y-1\n"
   ]
  },
  {
   "cell_type": "code",
   "execution_count": null,
   "id": "7ef0f34b",
   "metadata": {},
   "outputs": [],
   "source": []
  },
  {
   "cell_type": "code",
   "execution_count": 72,
   "id": "8e4fa597",
   "metadata": {},
   "outputs": [],
   "source": [
    "dataframes = {}"
   ]
  },
  {
   "cell_type": "code",
   "execution_count": 73,
   "id": "54979a4b",
   "metadata": {},
   "outputs": [
    {
     "name": "stderr",
     "output_type": "stream",
     "text": [
      "C:\\Users\\Admin\\AppData\\Local\\Programs\\Python\\Python39\\lib\\site-packages\\pandas\\core\\frame.py:4906: SettingWithCopyWarning: \n",
      "A value is trying to be set on a copy of a slice from a DataFrame\n",
      "\n",
      "See the caveats in the documentation: https://pandas.pydata.org/pandas-docs/stable/user_guide/indexing.html#returning-a-view-versus-a-copy\n",
      "  return super().drop(\n"
     ]
    }
   ],
   "source": [
    "for GW in Gameweeks:\n",
    "    filt=(df['GW'] == GW) & (df['season'] == '2020/21')\n",
    "    dataframes[GW] = df[filt]\n",
    "    dataframes[GW].reset_index(inplace = True)\n",
    "    dataframes[GW].drop(['index'],axis= 'columns' , inplace =True)\n",
    "    dataframes[GW].drop([ 'kickoff_time','season', 'name' , 'position','pos' ,'GW' ,'team','teams','round','element'],axis= 'columns' , inplace =True)"
   ]
  },
  {
   "cell_type": "code",
   "execution_count": 74,
   "id": "72034826",
   "metadata": {},
   "outputs": [],
   "source": [
    "n = 0\n",
    "for keys in dataframes:\n",
    "    column = []\n",
    "    \n",
    "    for value in dataframes[keys].columns:\n",
    "        \n",
    "        if (value != 'id')  & (value!='team'):\n",
    "            value = value +f'_{n}' \n",
    "        column.append(value)\n",
    "        \n",
    "    dataframes[keys].columns = column\n",
    "    n=n-1   "
   ]
  },
  {
   "cell_type": "code",
   "execution_count": 75,
   "id": "3c98e2f1",
   "metadata": {},
   "outputs": [
    {
     "name": "stderr",
     "output_type": "stream",
     "text": [
      "C:\\Users\\Admin\\AppData\\Local\\Programs\\Python\\Python39\\lib\\site-packages\\pandas\\util\\_decorators.py:311: SettingWithCopyWarning: \n",
      "A value is trying to be set on a copy of a slice from a DataFrame\n",
      "\n",
      "See the caveats in the documentation: https://pandas.pydata.org/pandas-docs/stable/user_guide/indexing.html#returning-a-view-versus-a-copy\n",
      "  return func(*args, **kwargs)\n"
     ]
    }
   ],
   "source": [
    "for keys in dataframes:\n",
    "    dataframes[keys].drop_duplicates(subset='id' , keep ='first' , inplace = True)\n",
    "    dataframes[keys].reset_index(inplace = True)\n",
    "    dataframes[keys].drop(['index'],axis= 'columns' , inplace =True)"
   ]
  },
  {
   "cell_type": "code",
   "execution_count": null,
   "id": "5130f857",
   "metadata": {},
   "outputs": [],
   "source": []
  },
  {
   "cell_type": "code",
   "execution_count": 76,
   "id": "e42df409",
   "metadata": {},
   "outputs": [],
   "source": [
    "df1 = pd.merge(dataframes[x] , dataframes[x-1], on = 'id' , how = 'outer')\n",
    "df1 = pd.merge(df1 , dataframes[x-2], on = 'id' , how = 'outer')\n",
    "df1 = pd.merge(df1 , dataframes[x-3], on = 'id' , how = 'outer')\n",
    "df1 = pd.merge(df1 , dataframes[x-4], on = 'id' , how = 'outer')"
   ]
  },
  {
   "cell_type": "code",
   "execution_count": 77,
   "id": "82b7ab88",
   "metadata": {},
   "outputs": [],
   "source": [
    "filt = (df['GW'] == x) | (df['GW'] == x-1) | (df['GW'] == x-2) | (df['GW'] == x-3) | (df['GW'] == x-4)\n",
    "df_position = df.loc[filt , ['id' , 'pos','teams']]"
   ]
  },
  {
   "cell_type": "code",
   "execution_count": 78,
   "id": "079816b3",
   "metadata": {},
   "outputs": [],
   "source": [
    "df_position.drop_duplicates(subset='id',keep = 'first',inplace = True)\n",
    "df_position.reset_index(inplace = True)\n",
    "df_position.drop(['index'],axis= 'columns' , inplace =True)"
   ]
  },
  {
   "cell_type": "code",
   "execution_count": 79,
   "id": "c4e6b58a",
   "metadata": {},
   "outputs": [],
   "source": [
    "df1.drop_duplicates(subset='id',keep = 'first',inplace = True)\n",
    "df1.reset_index(inplace = True)\n",
    "df1.drop(['index'],axis= 'columns' , inplace =True)"
   ]
  },
  {
   "cell_type": "code",
   "execution_count": null,
   "id": "bdf0e898",
   "metadata": {},
   "outputs": [],
   "source": []
  },
  {
   "cell_type": "code",
   "execution_count": null,
   "id": "161c9d38",
   "metadata": {},
   "outputs": [],
   "source": []
  },
  {
   "cell_type": "code",
   "execution_count": null,
   "id": "487919f7",
   "metadata": {},
   "outputs": [],
   "source": []
  },
  {
   "cell_type": "code",
   "execution_count": null,
   "id": "40eabeaa",
   "metadata": {},
   "outputs": [],
   "source": []
  },
  {
   "cell_type": "code",
   "execution_count": 80,
   "id": "d0b49a8e",
   "metadata": {},
   "outputs": [],
   "source": [
    "df1 = pd.merge(df1 , df_position, on = 'id' , how = 'inner')"
   ]
  },
  {
   "cell_type": "code",
   "execution_count": 81,
   "id": "ae49fce6",
   "metadata": {},
   "outputs": [],
   "source": [
    "columns = df1.columns\n",
    "remove = ('pos','teams','id','total_points')\n",
    "a = set(columns)\n",
    "b = a.difference(remove)\n",
    "columns = list(b)"
   ]
  },
  {
   "cell_type": "code",
   "execution_count": 82,
   "id": "b9d65a14",
   "metadata": {},
   "outputs": [],
   "source": [
    "df1 = df1.fillna(df1.median())"
   ]
  },
  {
   "cell_type": "code",
   "execution_count": null,
   "id": "b92a2f7f",
   "metadata": {},
   "outputs": [],
   "source": []
  },
  {
   "cell_type": "code",
   "execution_count": 83,
   "id": "7bc22b7e",
   "metadata": {},
   "outputs": [],
   "source": [
    "df1.loc[:,columns] = StandardScaler().fit_transform(df1.loc[:, columns])"
   ]
  },
  {
   "cell_type": "code",
   "execution_count": null,
   "id": "e5c95193",
   "metadata": {},
   "outputs": [],
   "source": []
  },
  {
   "cell_type": "code",
   "execution_count": 84,
   "id": "521bfcab",
   "metadata": {},
   "outputs": [],
   "source": [
    "X=df1.drop(['id'  ,'pos','teams'],axis ='columns') \n"
   ]
  },
  {
   "cell_type": "code",
   "execution_count": 85,
   "id": "c6d37c9f",
   "metadata": {},
   "outputs": [
    {
     "data": {
      "text/plain": [
       "Index(['xP_0', 'assists_0', 'bonus_0', 'bps_0', 'clean_sheets_0',\n",
       "       'creativity_0', 'fixture_0', 'goals_conceded_0', 'goals_scored_0',\n",
       "       'ict_index_0',\n",
       "       ...\n",
       "       'team_a_score_-4', 'team_h_score_-4', 'threat_-4', 'total_points_-4',\n",
       "       'transfers_balance_-4', 'transfers_in_-4', 'transfers_out_-4',\n",
       "       'value_-4', 'was_home_-4', 'yellow_cards_-4'],\n",
       "      dtype='object', length=145)"
      ]
     },
     "execution_count": 85,
     "metadata": {},
     "output_type": "execute_result"
    }
   ],
   "source": [
    "X.columns"
   ]
  },
  {
   "cell_type": "code",
   "execution_count": 86,
   "id": "3cc46766",
   "metadata": {},
   "outputs": [],
   "source": [
    "import pickle\n",
    "\n",
    "with open('model_pickle','rb') as file:\n",
    "    mp = pickle.load(file)"
   ]
  },
  {
   "cell_type": "code",
   "execution_count": 87,
   "id": "310ee4fc",
   "metadata": {},
   "outputs": [],
   "source": [
    "df1['predict'] = mp.predict(X)\n",
    "\n",
    "\n"
   ]
  },
  {
   "cell_type": "code",
   "execution_count": 88,
   "id": "dad2397c",
   "metadata": {},
   "outputs": [
    {
     "data": {
      "text/plain": [
       "0      3.280000\n",
       "1      3.190000\n",
       "2      2.006667\n",
       "3      3.260000\n",
       "4      2.320000\n",
       "         ...   \n",
       "723    0.590000\n",
       "724    3.160000\n",
       "725    0.790000\n",
       "726    1.820000\n",
       "727    1.360417\n",
       "Name: predict, Length: 728, dtype: float64"
      ]
     },
     "execution_count": 88,
     "metadata": {},
     "output_type": "execute_result"
    }
   ],
   "source": [
    "df1['predict']"
   ]
  },
  {
   "cell_type": "code",
   "execution_count": 89,
   "id": "da1b5c7a",
   "metadata": {},
   "outputs": [],
   "source": [
    "df1 = pd.merge(df1 , df_id, on = 'id' , how = 'inner')"
   ]
  },
  {
   "cell_type": "code",
   "execution_count": 90,
   "id": "0089f553",
   "metadata": {},
   "outputs": [],
   "source": [
    "df_op = df1.loc[:,['predict' , 'name' , 'position','team']]"
   ]
  },
  {
   "cell_type": "code",
   "execution_count": 91,
   "id": "a5ee02ba",
   "metadata": {},
   "outputs": [
    {
     "data": {
      "text/plain": [
       "False"
      ]
     },
     "execution_count": 91,
     "metadata": {},
     "output_type": "execute_result"
    }
   ],
   "source": [
    "df_op.isnull().values.any()"
   ]
  },
  {
   "cell_type": "code",
   "execution_count": 92,
   "id": "44699913",
   "metadata": {},
   "outputs": [
    {
     "data": {
      "text/html": [
       "<div>\n",
       "<style scoped>\n",
       "    .dataframe tbody tr th:only-of-type {\n",
       "        vertical-align: middle;\n",
       "    }\n",
       "\n",
       "    .dataframe tbody tr th {\n",
       "        vertical-align: top;\n",
       "    }\n",
       "\n",
       "    .dataframe thead th {\n",
       "        text-align: right;\n",
       "    }\n",
       "</style>\n",
       "<table border=\"1\" class=\"dataframe\">\n",
       "  <thead>\n",
       "    <tr style=\"text-align: right;\">\n",
       "      <th></th>\n",
       "      <th>predict</th>\n",
       "      <th>name</th>\n",
       "      <th>position</th>\n",
       "      <th>team</th>\n",
       "    </tr>\n",
       "  </thead>\n",
       "  <tbody>\n",
       "    <tr>\n",
       "      <th>0</th>\n",
       "      <td>3.280000</td>\n",
       "      <td>Aaron Connolly</td>\n",
       "      <td>FWD</td>\n",
       "      <td>Brighton</td>\n",
       "    </tr>\n",
       "    <tr>\n",
       "      <th>1</th>\n",
       "      <td>3.190000</td>\n",
       "      <td>Aaron Cresswell</td>\n",
       "      <td>DEF</td>\n",
       "      <td>West Ham</td>\n",
       "    </tr>\n",
       "    <tr>\n",
       "      <th>2</th>\n",
       "      <td>2.006667</td>\n",
       "      <td>Aaron Lennon</td>\n",
       "      <td>MID</td>\n",
       "      <td>Burnley</td>\n",
       "    </tr>\n",
       "    <tr>\n",
       "      <th>3</th>\n",
       "      <td>3.260000</td>\n",
       "      <td>Aaron Ramsdale</td>\n",
       "      <td>GK</td>\n",
       "      <td>Sheffield Utd</td>\n",
       "    </tr>\n",
       "    <tr>\n",
       "      <th>4</th>\n",
       "      <td>2.320000</td>\n",
       "      <td>Aaron Ramsey</td>\n",
       "      <td>MID</td>\n",
       "      <td>Aston Villa</td>\n",
       "    </tr>\n",
       "    <tr>\n",
       "      <th>...</th>\n",
       "      <td>...</td>\n",
       "      <td>...</td>\n",
       "      <td>...</td>\n",
       "      <td>...</td>\n",
       "    </tr>\n",
       "    <tr>\n",
       "      <th>723</th>\n",
       "      <td>0.590000</td>\n",
       "      <td>Zach Awe</td>\n",
       "      <td>DEF</td>\n",
       "      <td>Arsenal</td>\n",
       "    </tr>\n",
       "    <tr>\n",
       "      <th>724</th>\n",
       "      <td>3.160000</td>\n",
       "      <td>Zack Steffen</td>\n",
       "      <td>GK</td>\n",
       "      <td>Man City</td>\n",
       "    </tr>\n",
       "    <tr>\n",
       "      <th>725</th>\n",
       "      <td>0.790000</td>\n",
       "      <td>Zak Swanson</td>\n",
       "      <td>DEF</td>\n",
       "      <td>Arsenal</td>\n",
       "    </tr>\n",
       "    <tr>\n",
       "      <th>726</th>\n",
       "      <td>1.820000</td>\n",
       "      <td>Álvaro Fernández</td>\n",
       "      <td>GK</td>\n",
       "      <td>Brentford</td>\n",
       "    </tr>\n",
       "    <tr>\n",
       "      <th>727</th>\n",
       "      <td>1.360417</td>\n",
       "      <td>Çaglar Söyüncü</td>\n",
       "      <td>DEF</td>\n",
       "      <td>Leicester</td>\n",
       "    </tr>\n",
       "  </tbody>\n",
       "</table>\n",
       "<p>728 rows × 4 columns</p>\n",
       "</div>"
      ],
      "text/plain": [
       "      predict              name position           team\n",
       "0    3.280000    Aaron Connolly      FWD       Brighton\n",
       "1    3.190000   Aaron Cresswell      DEF       West Ham\n",
       "2    2.006667      Aaron Lennon      MID        Burnley\n",
       "3    3.260000    Aaron Ramsdale       GK  Sheffield Utd\n",
       "4    2.320000      Aaron Ramsey      MID    Aston Villa\n",
       "..        ...               ...      ...            ...\n",
       "723  0.590000          Zach Awe      DEF        Arsenal\n",
       "724  3.160000      Zack Steffen       GK       Man City\n",
       "725  0.790000       Zak Swanson      DEF        Arsenal\n",
       "726  1.820000  Álvaro Fernández       GK      Brentford\n",
       "727  1.360417    Çaglar Söyüncü      DEF      Leicester\n",
       "\n",
       "[728 rows x 4 columns]"
      ]
     },
     "execution_count": 92,
     "metadata": {},
     "output_type": "execute_result"
    }
   ],
   "source": [
    "df_op"
   ]
  },
  {
   "cell_type": "code",
   "execution_count": 93,
   "id": "9e142769",
   "metadata": {},
   "outputs": [],
   "source": [
    "df_op.to_csv('final_result.csv')"
   ]
  },
  {
   "cell_type": "code",
   "execution_count": null,
   "id": "f970b9dc",
   "metadata": {},
   "outputs": [],
   "source": []
  },
  {
   "cell_type": "code",
   "execution_count": null,
   "id": "3c7932dd",
   "metadata": {},
   "outputs": [],
   "source": []
  },
  {
   "cell_type": "code",
   "execution_count": null,
   "id": "1f200a0e",
   "metadata": {},
   "outputs": [],
   "source": []
  }
 ],
 "metadata": {
  "kernelspec": {
   "display_name": "Python 3",
   "language": "python",
   "name": "python3"
  },
  "language_info": {
   "codemirror_mode": {
    "name": "ipython",
    "version": 3
   },
   "file_extension": ".py",
   "mimetype": "text/x-python",
   "name": "python",
   "nbconvert_exporter": "python",
   "pygments_lexer": "ipython3",
   "version": "3.9.7"
  }
 },
 "nbformat": 4,
 "nbformat_minor": 5
}
