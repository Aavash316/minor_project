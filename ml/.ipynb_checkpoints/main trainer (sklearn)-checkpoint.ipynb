{
 "cells": [
  {
   "cell_type": "code",
   "execution_count": 1,
   "id": "d3ec3652",
   "metadata": {},
   "outputs": [
    {
     "ename": "ModuleNotFoundError",
     "evalue": "No module named 'keras'",
     "output_type": "error",
     "traceback": [
      "\u001b[1;31m-------------------------------------------------------------------------\u001b[0m",
      "\u001b[1;31mModuleNotFoundError\u001b[0m                     Traceback (most recent call last)",
      "\u001b[1;32m<ipython-input-1-e452af69482d>\u001b[0m in \u001b[0;36m<module>\u001b[1;34m\u001b[0m\n\u001b[0;32m     10\u001b[0m \u001b[1;32mfrom\u001b[0m \u001b[0msklearn\u001b[0m \u001b[1;32mimport\u001b[0m \u001b[0mlinear_model\u001b[0m\u001b[1;33m\u001b[0m\u001b[1;33m\u001b[0m\u001b[0m\n\u001b[0;32m     11\u001b[0m \u001b[1;31m#from keras.wrappers.scikit_learn import KerasRefressor\u001b[0m\u001b[1;33m\u001b[0m\u001b[1;33m\u001b[0m\u001b[0m\n\u001b[1;32m---> 12\u001b[1;33m \u001b[1;32mfrom\u001b[0m \u001b[0mkeras\u001b[0m\u001b[1;33m.\u001b[0m\u001b[0mlayers\u001b[0m \u001b[1;32mimport\u001b[0m \u001b[0mDense\u001b[0m\u001b[1;33m\u001b[0m\u001b[1;33m\u001b[0m\u001b[0m\n\u001b[0m\u001b[0;32m     13\u001b[0m \u001b[1;32mfrom\u001b[0m \u001b[0mkeras\u001b[0m\u001b[1;33m.\u001b[0m\u001b[0mmodels\u001b[0m \u001b[1;32mimport\u001b[0m \u001b[0mSequential\u001b[0m\u001b[1;33m\u001b[0m\u001b[1;33m\u001b[0m\u001b[0m\n\u001b[0;32m     14\u001b[0m \u001b[1;32mimport\u001b[0m \u001b[0mpickle\u001b[0m\u001b[1;33m\u001b[0m\u001b[1;33m\u001b[0m\u001b[0m\n",
      "\u001b[1;31mModuleNotFoundError\u001b[0m: No module named 'keras'"
     ]
    }
   ],
   "source": [
    "from telnetlib import X3PAD\n",
    "import pandas as pd\n",
    "import numpy as np\n",
    "from sklearn.preprocessing import StandardScaler\n",
    "import matplotlib.pyplot as plt \n",
    "from sklearn.model_selection import train_test_split\n",
    "from sklearn.utils import shuffle\n",
    "import pickle \n",
    "from sklearn.preprocessing import PolynomialFeatures\n",
    "from sklearn import linear_model\n",
    "#from keras.wrappers.scikit_learn import KerasRefressor\n",
    "# from keras.layers import Dense \n",
    "# from keras.models import Sequential\n",
    "import pickle \n",
    "from sklearn.metrics import mean_squared_error"
   ]
  },
  {
   "cell_type": "code",
   "execution_count": null,
   "id": "8029efb9",
   "metadata": {},
   "outputs": [],
   "source": []
  },
  {
   "cell_type": "code",
   "execution_count": null,
   "id": "80f6dcc1",
   "metadata": {},
   "outputs": [],
   "source": [
    "df_2020 = pd.read_csv('merged_gw2020.csv',low_memory = False)\n",
    "df_2021 = pd.read_csv('merged_gw2021.csv',low_memory = False)\n"
   ]
  },
  {
   "cell_type": "code",
   "execution_count": null,
   "id": "bea0155b",
   "metadata": {},
   "outputs": [],
   "source": [
    "season_2020 = pd.DataFrame({'season' : ['2019/20']*df_2020.shape[0]   })\n",
    "season_2021 = pd.DataFrame({'season' : ['2020/21']*df_2021.shape[0]   })"
   ]
  },
  {
   "cell_type": "code",
   "execution_count": null,
   "id": "e4507038",
   "metadata": {},
   "outputs": [],
   "source": [
    "df_2020 =pd.concat([df_2020, season_2020] ,axis = 'columns')\n",
    "df_2021 =pd.concat([df_2021, season_2021] ,axis = 'columns')\n"
   ]
  },
  {
   "cell_type": "code",
   "execution_count": null,
   "id": "187873f2",
   "metadata": {},
   "outputs": [],
   "source": [
    "df= pd.concat([df_2020 , df_2021], axis = 'index',ignore_index = True)\n",
    "\n"
   ]
  },
  {
   "cell_type": "code",
   "execution_count": null,
   "id": "fe949f50",
   "metadata": {},
   "outputs": [],
   "source": []
  },
  {
   "cell_type": "code",
   "execution_count": null,
   "id": "321ee8ad",
   "metadata": {},
   "outputs": [],
   "source": [
    "\n",
    "\n"
   ]
  },
  {
   "cell_type": "code",
   "execution_count": null,
   "id": "6b7caa7c",
   "metadata": {
    "scrolled": false
   },
   "outputs": [],
   "source": [
    "df[\"was_home\"] = df[\"was_home\"].astype(int)\n"
   ]
  },
  {
   "cell_type": "code",
   "execution_count": null,
   "id": "ddff074a",
   "metadata": {},
   "outputs": [],
   "source": []
  },
  {
   "cell_type": "code",
   "execution_count": null,
   "id": "1eef915f",
   "metadata": {},
   "outputs": [],
   "source": [
    "\n",
    "df.sort_values(by=['name','season','GW'], inplace =True)\n",
    "df.reset_index(inplace = True)\n",
    "\n",
    "\n",
    "df.drop(['index'],axis= 'columns' , inplace =True)"
   ]
  },
  {
   "cell_type": "code",
   "execution_count": null,
   "id": "ee4107bd",
   "metadata": {},
   "outputs": [],
   "source": [
    "df['id'] = df.groupby(['name']).ngroup()"
   ]
  },
  {
   "cell_type": "code",
   "execution_count": null,
   "id": "c9d62af8",
   "metadata": {},
   "outputs": [],
   "source": [
    "df['pos']= df.groupby(['position']).ngroup()"
   ]
  },
  {
   "cell_type": "code",
   "execution_count": null,
   "id": "8796246b",
   "metadata": {},
   "outputs": [],
   "source": [
    "df['teams'] = df.groupby(['team']).ngroup()"
   ]
  },
  {
   "cell_type": "code",
   "execution_count": null,
   "id": "4b6cbd06",
   "metadata": {},
   "outputs": [],
   "source": [
    "identity = df['id'].unique()\n"
   ]
  },
  {
   "cell_type": "markdown",
   "id": "3445a86d",
   "metadata": {},
   "source": [
    "### points milaune thau\n"
   ]
  },
  {
   "cell_type": "code",
   "execution_count": null,
   "id": "05161d99",
   "metadata": {},
   "outputs": [],
   "source": [
    "#enter value of x where x is the latest gameweek\n",
    "x = 25"
   ]
  },
  {
   "cell_type": "code",
   "execution_count": null,
   "id": "be3a411e",
   "metadata": {},
   "outputs": [],
   "source": [
    "filt = (df['GW'] == x) & (df['season']=='2020/21')\n",
    "df_points = df.loc[filt , ['total_points','id' ]]\n",
    "df_points.drop_duplicates(subset='id',keep = 'first',inplace = True)\n",
    "df_points.reset_index(inplace = True)\n",
    "\n",
    "\n",
    "df_points.drop(['index'],axis= 'columns' , inplace =True)\n",
    "df_points"
   ]
  },
  {
   "cell_type": "code",
   "execution_count": null,
   "id": "04987acb",
   "metadata": {},
   "outputs": [],
   "source": [
    "y=x-1\n",
    "Gameweeks=[]"
   ]
  },
  {
   "cell_type": "code",
   "execution_count": null,
   "id": "62001d7a",
   "metadata": {},
   "outputs": [],
   "source": [
    "for i in range(5):\n",
    "    Gameweeks.append(y)\n",
    "    y=y-1\n"
   ]
  },
  {
   "cell_type": "code",
   "execution_count": null,
   "id": "485c0ab8",
   "metadata": {},
   "outputs": [],
   "source": [
    "dataframes = {}"
   ]
  },
  {
   "cell_type": "code",
   "execution_count": null,
   "id": "3d20a615",
   "metadata": {},
   "outputs": [],
   "source": []
  },
  {
   "cell_type": "code",
   "execution_count": null,
   "id": "43721576",
   "metadata": {
    "scrolled": true
   },
   "outputs": [],
   "source": [
    "for GW in Gameweeks:\n",
    "    filt=(df['GW'] == GW) & (df['season'] == '2020/21')\n",
    "    dataframes[GW] = df[filt]\n",
    "    dataframes[GW].reset_index(inplace = True)\n",
    "    dataframes[GW].drop(['index'],axis= 'columns' , inplace =True)\n",
    "    dataframes[GW].drop([ 'kickoff_time','season', 'name' , 'position','pos' ,'GW' ,'team','teams'],axis= 'columns' , inplace =True)\n",
    "    "
   ]
  },
  {
   "cell_type": "code",
   "execution_count": null,
   "id": "6954232a",
   "metadata": {},
   "outputs": [],
   "source": [
    "dataframes[24].columns"
   ]
  },
  {
   "cell_type": "code",
   "execution_count": null,
   "id": "8c286195",
   "metadata": {
    "scrolled": true
   },
   "outputs": [],
   "source": []
  },
  {
   "cell_type": "code",
   "execution_count": null,
   "id": "fbef8c69",
   "metadata": {},
   "outputs": [],
   "source": [
    "n = 0\n",
    "for keys in dataframes:\n",
    "    column = []\n",
    "    \n",
    "    for value in dataframes[keys].columns:\n",
    "        \n",
    "        if (value != 'id')  & (value!='team'):\n",
    "            value = value +f'_{n}' \n",
    "        column.append(value)\n",
    "        \n",
    "    dataframes[keys].columns = column\n",
    "    n=n-1       "
   ]
  },
  {
   "cell_type": "code",
   "execution_count": null,
   "id": "4eb7cfd9",
   "metadata": {},
   "outputs": [],
   "source": []
  },
  {
   "cell_type": "code",
   "execution_count": null,
   "id": "7d57e1b1",
   "metadata": {},
   "outputs": [],
   "source": [
    "for keys in dataframes:\n",
    "    dataframes[keys].drop_duplicates(subset='id' , keep ='first' , inplace = True)\n",
    "    dataframes[keys].reset_index(inplace = True)\n",
    "    dataframes[keys].drop(['index'],axis= 'columns' , inplace =True)"
   ]
  },
  {
   "cell_type": "code",
   "execution_count": null,
   "id": "9d410c8f",
   "metadata": {},
   "outputs": [],
   "source": [
    "#for keys in dataframes:\n",
    "#    print(dataframes[keys].columns)"
   ]
  },
  {
   "cell_type": "code",
   "execution_count": null,
   "id": "e76fa47e",
   "metadata": {},
   "outputs": [],
   "source": []
  },
  {
   "cell_type": "code",
   "execution_count": null,
   "id": "58a43383",
   "metadata": {},
   "outputs": [],
   "source": [
    "\n",
    "df1 = pd.merge(dataframes[x-1] , dataframes[x-2], on = 'id' , how = 'outer')\n",
    "df1 = pd.merge(df1 , dataframes[x-3], on = 'id' , how = 'outer')\n",
    "df1 = pd.merge(df1 , dataframes[x-4], on = 'id' , how = 'outer')\n",
    "df1 = pd.merge(df1 , dataframes[x-5], on = 'id' , how = 'outer')\n"
   ]
  },
  {
   "cell_type": "code",
   "execution_count": null,
   "id": "1b843bbd",
   "metadata": {},
   "outputs": [],
   "source": [
    "filt = (df['GW'] == x-1) | (df['GW'] == x-2) | (df['GW'] == x-3) | (df['GW'] == x-4) | (df['GW'] == x-5)\n",
    "df_position = df.loc[filt , ['id' , 'pos','teams']]"
   ]
  },
  {
   "cell_type": "code",
   "execution_count": null,
   "id": "ea340bec",
   "metadata": {},
   "outputs": [],
   "source": [
    "df_position.drop_duplicates(subset='id',keep = 'first',inplace = True)\n",
    "df_position.reset_index(inplace = True)\n",
    "df_position.drop(['index'],axis= 'columns' , inplace =True)"
   ]
  },
  {
   "cell_type": "code",
   "execution_count": null,
   "id": "3aee29a6",
   "metadata": {},
   "outputs": [],
   "source": [
    "df1.drop_duplicates(subset='id',keep = 'first',inplace = True)\n",
    "df1.reset_index(inplace = True)\n",
    "df1.drop(['index'],axis= 'columns' , inplace =True)"
   ]
  },
  {
   "cell_type": "code",
   "execution_count": null,
   "id": "a5c4c5b7",
   "metadata": {},
   "outputs": [],
   "source": [
    "df1 = pd.merge(df1 , df_position, on = 'id' , how = 'inner')"
   ]
  },
  {
   "cell_type": "code",
   "execution_count": null,
   "id": "c4472834",
   "metadata": {},
   "outputs": [],
   "source": []
  },
  {
   "cell_type": "code",
   "execution_count": null,
   "id": "ed571eeb",
   "metadata": {},
   "outputs": [],
   "source": [
    "filt = df['GW']== x \n",
    "df_points = df.loc[filt,['id' , 'total_points']]\n",
    "df_points.drop_duplicates(subset='id',keep = 'first',inplace = True)\n",
    "df_points.reset_index(inplace = True)\n",
    "df_points.drop(['index'],axis= 'columns' , inplace =True)"
   ]
  },
  {
   "cell_type": "code",
   "execution_count": null,
   "id": "796dae7e",
   "metadata": {},
   "outputs": [],
   "source": [
    "df_points"
   ]
  },
  {
   "cell_type": "code",
   "execution_count": null,
   "id": "5c1d2bbb",
   "metadata": {},
   "outputs": [],
   "source": []
  },
  {
   "cell_type": "code",
   "execution_count": null,
   "id": "400a3309",
   "metadata": {},
   "outputs": [],
   "source": [
    "\n",
    "df1 = pd.merge(df1 , df_points, on = 'id' , how = 'inner')\n"
   ]
  },
  {
   "cell_type": "code",
   "execution_count": null,
   "id": "5fa86923",
   "metadata": {},
   "outputs": [],
   "source": []
  },
  {
   "cell_type": "code",
   "execution_count": null,
   "id": "39ced071",
   "metadata": {
    "scrolled": true
   },
   "outputs": [],
   "source": []
  },
  {
   "cell_type": "code",
   "execution_count": null,
   "id": "b05505b1",
   "metadata": {},
   "outputs": [],
   "source": [
    "#merged =pd.concat([df1.id,df1.teams,df1.pos] ,axis = 'columns')\n",
    "\n",
    "\n",
    "\n",
    "#df1.drop(['id' , 'teams' , 'pos'],axis= 'columns',inplace = True)\n"
   ]
  },
  {
   "cell_type": "code",
   "execution_count": null,
   "id": "75ed6ab9",
   "metadata": {},
   "outputs": [],
   "source": [
    "df['total_points'].isnull().values.any()"
   ]
  },
  {
   "cell_type": "code",
   "execution_count": null,
   "id": "84a4cfda",
   "metadata": {},
   "outputs": [],
   "source": [
    "df1 = df1.fillna(df1.median())"
   ]
  },
  {
   "cell_type": "code",
   "execution_count": null,
   "id": "51851264",
   "metadata": {},
   "outputs": [],
   "source": [
    "df1"
   ]
  },
  {
   "cell_type": "code",
   "execution_count": null,
   "id": "894ba7cd",
   "metadata": {},
   "outputs": [],
   "source": []
  },
  {
   "cell_type": "code",
   "execution_count": null,
   "id": "e06e6441",
   "metadata": {},
   "outputs": [],
   "source": []
  },
  {
   "cell_type": "code",
   "execution_count": null,
   "id": "14553a8b",
   "metadata": {},
   "outputs": [],
   "source": [
    "#df1_scaled= pd.DataFrame(df1_scaled, columns = list(df1.columns))"
   ]
  },
  {
   "cell_type": "code",
   "execution_count": null,
   "id": "e57629a4",
   "metadata": {},
   "outputs": [],
   "source": [
    "#df1_scaled.info()"
   ]
  },
  {
   "cell_type": "code",
   "execution_count": null,
   "id": "7092ec5e",
   "metadata": {},
   "outputs": [],
   "source": [
    "#merged.info()"
   ]
  },
  {
   "cell_type": "code",
   "execution_count": null,
   "id": "3bad3b68",
   "metadata": {},
   "outputs": [],
   "source": [
    "#merged.isnull().values.any()"
   ]
  },
  {
   "cell_type": "code",
   "execution_count": null,
   "id": "20924c05",
   "metadata": {},
   "outputs": [],
   "source": [
    "#df1_scaled.isnull().values.any()"
   ]
  },
  {
   "cell_type": "code",
   "execution_count": null,
   "id": "738f3dbf",
   "metadata": {},
   "outputs": [],
   "source": [
    "#df1 = df = pd.concat([df1_scaled , merged] ,axis = 'columns')"
   ]
  },
  {
   "cell_type": "code",
   "execution_count": null,
   "id": "c663fab4",
   "metadata": {},
   "outputs": [],
   "source": []
  },
  {
   "cell_type": "code",
   "execution_count": null,
   "id": "ee3090be",
   "metadata": {},
   "outputs": [],
   "source": [
    "df1"
   ]
  },
  {
   "cell_type": "code",
   "execution_count": null,
   "id": "f3459320",
   "metadata": {},
   "outputs": [],
   "source": [
    "columns = df1.columns\n",
    "remove = ('pos','teams','id','total_points')\n",
    "a = set(columns)\n",
    "b = a.difference(remove)\n",
    "columns = list(b)"
   ]
  },
  {
   "cell_type": "code",
   "execution_count": null,
   "id": "d3926d14",
   "metadata": {},
   "outputs": [],
   "source": [
    "df1.to_csv('aavash.csv')"
   ]
  },
  {
   "cell_type": "code",
   "execution_count": null,
   "id": "beaaba96",
   "metadata": {},
   "outputs": [],
   "source": [
    "df1.loc[:,columns] = StandardScaler().fit_transform(df1.loc[:, columns])\n"
   ]
  },
  {
   "cell_type": "code",
   "execution_count": null,
   "id": "4a114d98",
   "metadata": {},
   "outputs": [],
   "source": [
    "df1"
   ]
  },
  {
   "cell_type": "code",
   "execution_count": null,
   "id": "ce7104d3",
   "metadata": {
    "scrolled": false
   },
   "outputs": [],
   "source": [
    "X=df1.drop(['id' ,'total_points' ,'pos','teams'],axis ='columns') \n",
    "Y= df1.loc[:, {'total_points'}]\n",
    "\n",
    "\n",
    "X_train, X_test, Y_train, Y_test = train_test_split(X, Y, test_size=0.2 )\n",
    "\n",
    "\n"
   ]
  },
  {
   "cell_type": "code",
   "execution_count": null,
   "id": "f11b96ab",
   "metadata": {},
   "outputs": [],
   "source": []
  },
  {
   "cell_type": "code",
   "execution_count": null,
   "id": "c1b7ac0c",
   "metadata": {},
   "outputs": [],
   "source": [
    "from sklearn.ensemble import RandomForestRegressor\n",
    "model = RandomForestRegressor(max_depth=20, random_state=0)\n",
    "\n",
    "model.fit(X_train ,Y_train)"
   ]
  },
  {
   "cell_type": "code",
   "execution_count": null,
   "id": "5a87b074",
   "metadata": {},
   "outputs": [],
   "source": []
  },
  {
   "cell_type": "code",
   "execution_count": null,
   "id": "6a3d59db",
   "metadata": {},
   "outputs": [],
   "source": [
    "\n",
    "\n",
    "\n"
   ]
  },
  {
   "cell_type": "code",
   "execution_count": null,
   "id": "8dd02238",
   "metadata": {},
   "outputs": [],
   "source": [
    "prediction = model.predict(X_test)"
   ]
  },
  {
   "cell_type": "code",
   "execution_count": null,
   "id": "d4971cc7",
   "metadata": {},
   "outputs": [],
   "source": [
    "from sklearn.metrics import mean_squared_error\n",
    "mean_squared_error(Y_test,prediction)"
   ]
  },
  {
   "cell_type": "code",
   "execution_count": null,
   "id": "ab0174d0",
   "metadata": {},
   "outputs": [],
   "source": [
    "pred_training = model.predict(X_train)\n",
    "mean_squared_error(Y_train,pred_training)"
   ]
  },
  {
   "cell_type": "code",
   "execution_count": null,
   "id": "5c6b1171",
   "metadata": {},
   "outputs": [],
   "source": [
    "from sklearn.metrics import mean_absolute_error\n",
    "mean_absolute_error(Y_test,prediction)\n"
   ]
  },
  {
   "cell_type": "code",
   "execution_count": null,
   "id": "7088fee9",
   "metadata": {},
   "outputs": [],
   "source": [
    "mean_squared_error(Y_test,prediction)"
   ]
  },
  {
   "cell_type": "code",
   "execution_count": null,
   "id": "2759b6b1",
   "metadata": {},
   "outputs": [],
   "source": [
    "with open('model_pickle','wb') as file:\n",
    "    pickle.dump(model,file)\n",
    "\n"
   ]
  },
  {
   "cell_type": "code",
   "execution_count": null,
   "id": "c3048b8e",
   "metadata": {},
   "outputs": [],
   "source": []
  },
  {
   "cell_type": "code",
   "execution_count": null,
   "id": "c3d975c0",
   "metadata": {},
   "outputs": [],
   "source": []
  }
 ],
 "metadata": {
  "kernelspec": {
   "display_name": "Python 3",
   "language": "python",
   "name": "python3"
  },
  "language_info": {
   "codemirror_mode": {
    "name": "ipython",
    "version": 3
   },
   "file_extension": ".py",
   "mimetype": "text/x-python",
   "name": "python",
   "nbconvert_exporter": "python",
   "pygments_lexer": "ipython3",
   "version": "3.9.7"
  }
 },
 "nbformat": 4,
 "nbformat_minor": 5
}
