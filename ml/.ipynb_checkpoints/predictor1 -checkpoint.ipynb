{
 "cells": [
  {
   "cell_type": "code",
   "execution_count": 1,
   "id": "d3ec3652",
   "metadata": {},
   "outputs": [],
   "source": [
    "from telnetlib import X3PAD\n",
    "import pandas as pd\n",
    "import numpy as np\n",
    "from sklearn.preprocessing import StandardScaler\n",
    "import matplotlib.pyplot as plt \n",
    "\n",
    "from sklearn.utils import shuffle\n",
    "import pickle \n",
    "import sqlite3\n"
   ]
  },
  {
   "cell_type": "code",
   "execution_count": 2,
   "id": "80f6dcc1",
   "metadata": {},
   "outputs": [],
   "source": [
    "df_2020 = pd.read_csv('merged_gw2020.csv',low_memory = False)\n",
    "df_2021 = pd.read_csv('merged_gw2021.csv',low_memory = False)\n"
   ]
  },
  {
   "cell_type": "code",
   "execution_count": 3,
   "id": "bea0155b",
   "metadata": {},
   "outputs": [],
   "source": [
    "season_2020 = pd.DataFrame({'season' : ['2019/20']*df_2020.shape[0]   })\n",
    "season_2021 = pd.DataFrame({'season' : ['2020/21']*df_2021.shape[0]   })"
   ]
  },
  {
   "cell_type": "code",
   "execution_count": 4,
   "id": "e4507038",
   "metadata": {},
   "outputs": [],
   "source": [
    "df_2020 =pd.concat([df_2020, season_2020] ,axis = 'columns')\n",
    "df_2021 =pd.concat([df_2021, season_2021] ,axis = 'columns')\n"
   ]
  },
  {
   "cell_type": "code",
   "execution_count": 5,
   "id": "187873f2",
   "metadata": {},
   "outputs": [],
   "source": [
    "df= pd.concat([df_2020 , df_2021], axis = 'index',ignore_index = True)\n"
   ]
  },
  {
   "cell_type": "code",
   "execution_count": 6,
   "id": "14553a8b",
   "metadata": {},
   "outputs": [],
   "source": [
    "df[\"was_home\"] = df[\"was_home\"].astype(int)"
   ]
  },
  {
   "cell_type": "code",
   "execution_count": 7,
   "id": "20924c05",
   "metadata": {},
   "outputs": [],
   "source": [
    "df.sort_values(by=['name','season','GW'], inplace =True)\n",
    "df.reset_index(inplace = True)\n",
    "\n",
    "\n",
    "df.drop(['index'],axis= 'columns' , inplace =True)"
   ]
  },
  {
   "cell_type": "code",
   "execution_count": 8,
   "id": "738f3dbf",
   "metadata": {},
   "outputs": [],
   "source": [
    "df['id'] = df.groupby(['name']).ngroup()"
   ]
  },
  {
   "cell_type": "code",
   "execution_count": 9,
   "id": "94640366",
   "metadata": {},
   "outputs": [],
   "source": [
    "df['pos']= df.groupby(['position']).ngroup()"
   ]
  },
  {
   "cell_type": "code",
   "execution_count": 10,
   "id": "2b7fe921",
   "metadata": {},
   "outputs": [],
   "source": [
    "df['teams'] = df.groupby(['team']).ngroup()"
   ]
  },
  {
   "cell_type": "code",
   "execution_count": 11,
   "id": "dc081986",
   "metadata": {},
   "outputs": [],
   "source": [
    "identity = df['id'].unique()"
   ]
  },
  {
   "cell_type": "markdown",
   "id": "bc4dcf50",
   "metadata": {},
   "source": [
    "\n"
   ]
  },
  {
   "cell_type": "code",
   "execution_count": null,
   "id": "a2521f4a",
   "metadata": {},
   "outputs": [],
   "source": []
  },
  {
   "cell_type": "code",
   "execution_count": null,
   "id": "a8dbfa8a",
   "metadata": {},
   "outputs": [],
   "source": []
  },
  {
   "cell_type": "code",
   "execution_count": null,
   "id": "149b2bc0",
   "metadata": {},
   "outputs": [],
   "source": [
    "\n"
   ]
  },
  {
   "cell_type": "markdown",
   "id": "e3c6b35e",
   "metadata": {},
   "source": []
  },
  {
   "cell_type": "code",
   "execution_count": 12,
   "id": "9e696f59",
   "metadata": {},
   "outputs": [],
   "source": [
    "\n",
    "df_id = df.loc[: , ['id', 'name' ,'position']]\n",
    "df_id.reset_index(inplace = True)\n",
    "df_id.drop_duplicates(subset='id',keep = 'first',inplace = True)\n",
    "\n",
    "df_id.drop(['index'],axis= 'columns' , inplace =True)"
   ]
  },
  {
   "cell_type": "code",
   "execution_count": null,
   "id": "f57a5f59",
   "metadata": {},
   "outputs": [],
   "source": []
  },
  {
   "cell_type": "code",
   "execution_count": 13,
   "id": "1295b72a",
   "metadata": {},
   "outputs": [],
   "source": [
    "x = 25"
   ]
  },
  {
   "cell_type": "code",
   "execution_count": 14,
   "id": "9873c9b5",
   "metadata": {},
   "outputs": [],
   "source": [
    "y=x\n",
    "Gameweeks=[]"
   ]
  },
  {
   "cell_type": "code",
   "execution_count": 15,
   "id": "dc1aa8f0",
   "metadata": {},
   "outputs": [],
   "source": [
    "for i in range(5):\n",
    "    Gameweeks.append(y)\n",
    "    y=y-1\n"
   ]
  },
  {
   "cell_type": "code",
   "execution_count": null,
   "id": "7ef0f34b",
   "metadata": {},
   "outputs": [],
   "source": []
  },
  {
   "cell_type": "code",
   "execution_count": 16,
   "id": "8e4fa597",
   "metadata": {},
   "outputs": [],
   "source": [
    "dataframes = {}"
   ]
  },
  {
   "cell_type": "code",
   "execution_count": 17,
   "id": "54979a4b",
   "metadata": {},
   "outputs": [
    {
     "name": "stderr",
     "output_type": "stream",
     "text": [
      "/home/aavash/Downloads/jupyter/environment/lib/python3.8/site-packages/pandas/core/frame.py:4906: SettingWithCopyWarning: \n",
      "A value is trying to be set on a copy of a slice from a DataFrame\n",
      "\n",
      "See the caveats in the documentation: https://pandas.pydata.org/pandas-docs/stable/user_guide/indexing.html#returning-a-view-versus-a-copy\n",
      "  return super().drop(\n"
     ]
    }
   ],
   "source": [
    "for GW in Gameweeks:\n",
    "    filt=(df['GW'] == GW) & (df['season'] == '2020/21')\n",
    "    dataframes[GW] = df[filt]\n",
    "    dataframes[GW].reset_index(inplace = True)\n",
    "    dataframes[GW].drop(['index'],axis= 'columns' , inplace =True)\n",
    "    dataframes[GW].drop([ 'kickoff_time','season', 'name' , 'position','pos' ,'GW' ,'team','teams'],axis= 'columns' , inplace =True)\n",
    "    "
   ]
  },
  {
   "cell_type": "code",
   "execution_count": 18,
   "id": "72034826",
   "metadata": {},
   "outputs": [],
   "source": [
    "n = 0\n",
    "for keys in dataframes:\n",
    "    column = []\n",
    "    \n",
    "    for value in dataframes[keys].columns:\n",
    "        \n",
    "        if (value != 'id')  & (value!='team'):\n",
    "            value = value +f'_{n}' \n",
    "        column.append(value)\n",
    "        \n",
    "    dataframes[keys].columns = column\n",
    "    n=n-1   "
   ]
  },
  {
   "cell_type": "code",
   "execution_count": null,
   "id": "3c98e2f1",
   "metadata": {},
   "outputs": [],
   "source": [
    "for keys in dataframes:\n",
    "    dataframes[keys].drop_duplicates(subset='id' , keep ='first' , inplace = True)\n",
    "    dataframes[keys].reset_index(inplace = True)\n",
    "    dataframes[keys].drop(['index'],axis= 'columns' , inplace =True)"
   ]
  },
  {
   "cell_type": "code",
   "execution_count": null,
   "id": "5130f857",
   "metadata": {},
   "outputs": [],
   "source": []
  },
  {
   "cell_type": "code",
   "execution_count": 20,
   "id": "e42df409",
   "metadata": {},
   "outputs": [],
   "source": [
    "df1 = pd.merge(dataframes[x] , dataframes[x-1], on = 'id' , how = 'outer')\n",
    "df1 = pd.merge(df1 , dataframes[x-2], on = 'id' , how = 'outer')\n",
    "df1 = pd.merge(df1 , dataframes[x-3], on = 'id' , how = 'outer')\n",
    "df1 = pd.merge(df1 , dataframes[x-4], on = 'id' , how = 'outer')"
   ]
  },
  {
   "cell_type": "code",
   "execution_count": 21,
   "id": "82b7ab88",
   "metadata": {},
   "outputs": [],
   "source": [
    "filt = (df['GW'] == x) | (df['GW'] == x-1) | (df['GW'] == x-2) | (df['GW'] == x-3) | (df['GW'] == x-4)\n",
    "df_position = df.loc[filt , ['id' , 'pos','teams']]"
   ]
  },
  {
   "cell_type": "code",
   "execution_count": 22,
   "id": "079816b3",
   "metadata": {},
   "outputs": [],
   "source": [
    "df_position.drop_duplicates(subset='id',keep = 'first',inplace = True)\n",
    "df_position.reset_index(inplace = True)\n",
    "df_position.drop(['index'],axis= 'columns' , inplace =True)"
   ]
  },
  {
   "cell_type": "code",
   "execution_count": 23,
   "id": "c4e6b58a",
   "metadata": {},
   "outputs": [],
   "source": [
    "df1.drop_duplicates(subset='id',keep = 'first',inplace = True)\n",
    "df1.reset_index(inplace = True)\n",
    "df1.drop(['index'],axis= 'columns' , inplace =True)"
   ]
  },
  {
   "cell_type": "code",
   "execution_count": 24,
   "id": "bdf0e898",
   "metadata": {},
   "outputs": [],
   "source": [
    "df1 = df1.fillna(df1.median())"
   ]
  },
  {
   "cell_type": "code",
   "execution_count": 25,
   "id": "b701ca98",
   "metadata": {},
   "outputs": [
    {
     "data": {
      "text/html": [
       "<div>\n",
       "<style scoped>\n",
       "    .dataframe tbody tr th:only-of-type {\n",
       "        vertical-align: middle;\n",
       "    }\n",
       "\n",
       "    .dataframe tbody tr th {\n",
       "        vertical-align: top;\n",
       "    }\n",
       "\n",
       "    .dataframe thead th {\n",
       "        text-align: right;\n",
       "    }\n",
       "</style>\n",
       "<table border=\"1\" class=\"dataframe\">\n",
       "  <thead>\n",
       "    <tr style=\"text-align: right;\">\n",
       "      <th></th>\n",
       "      <th>xP_0</th>\n",
       "      <th>assists_0</th>\n",
       "      <th>bonus_0</th>\n",
       "      <th>bps_0</th>\n",
       "      <th>clean_sheets_0</th>\n",
       "      <th>creativity_0</th>\n",
       "      <th>element_0</th>\n",
       "      <th>fixture_0</th>\n",
       "      <th>goals_conceded_0</th>\n",
       "      <th>goals_scored_0</th>\n",
       "      <th>...</th>\n",
       "      <th>team_a_score_-4</th>\n",
       "      <th>team_h_score_-4</th>\n",
       "      <th>threat_-4</th>\n",
       "      <th>total_points_-4</th>\n",
       "      <th>transfers_balance_-4</th>\n",
       "      <th>transfers_in_-4</th>\n",
       "      <th>transfers_out_-4</th>\n",
       "      <th>value_-4</th>\n",
       "      <th>was_home_-4</th>\n",
       "      <th>yellow_cards_-4</th>\n",
       "    </tr>\n",
       "  </thead>\n",
       "  <tbody>\n",
       "    <tr>\n",
       "      <th>0</th>\n",
       "      <td>0.0</td>\n",
       "      <td>0.0</td>\n",
       "      <td>0.0</td>\n",
       "      <td>0.0</td>\n",
       "      <td>0.0</td>\n",
       "      <td>0.0</td>\n",
       "      <td>72.0</td>\n",
       "      <td>250.0</td>\n",
       "      <td>0.0</td>\n",
       "      <td>0.0</td>\n",
       "      <td>...</td>\n",
       "      <td>3.0</td>\n",
       "      <td>2.0</td>\n",
       "      <td>0.0</td>\n",
       "      <td>0.0</td>\n",
       "      <td>-388.0</td>\n",
       "      <td>490.0</td>\n",
       "      <td>878.0</td>\n",
       "      <td>53.0</td>\n",
       "      <td>0.0</td>\n",
       "      <td>0.0</td>\n",
       "    </tr>\n",
       "    <tr>\n",
       "      <th>1</th>\n",
       "      <td>3.8</td>\n",
       "      <td>0.0</td>\n",
       "      <td>0.0</td>\n",
       "      <td>0.0</td>\n",
       "      <td>0.0</td>\n",
       "      <td>3.3</td>\n",
       "      <td>411.0</td>\n",
       "      <td>245.0</td>\n",
       "      <td>2.0</td>\n",
       "      <td>0.0</td>\n",
       "      <td>...</td>\n",
       "      <td>3.0</td>\n",
       "      <td>2.0</td>\n",
       "      <td>0.0</td>\n",
       "      <td>0.0</td>\n",
       "      <td>-42234.0</td>\n",
       "      <td>1424.0</td>\n",
       "      <td>43658.0</td>\n",
       "      <td>53.0</td>\n",
       "      <td>0.0</td>\n",
       "      <td>0.0</td>\n",
       "    </tr>\n",
       "    <tr>\n",
       "      <th>2</th>\n",
       "      <td>0.7</td>\n",
       "      <td>0.0</td>\n",
       "      <td>0.0</td>\n",
       "      <td>13.0</td>\n",
       "      <td>0.0</td>\n",
       "      <td>25.3</td>\n",
       "      <td>575.0</td>\n",
       "      <td>242.0</td>\n",
       "      <td>1.0</td>\n",
       "      <td>0.0</td>\n",
       "      <td>...</td>\n",
       "      <td>1.0</td>\n",
       "      <td>3.0</td>\n",
       "      <td>2.0</td>\n",
       "      <td>2.0</td>\n",
       "      <td>911.0</td>\n",
       "      <td>1204.0</td>\n",
       "      <td>293.0</td>\n",
       "      <td>49.0</td>\n",
       "      <td>0.0</td>\n",
       "      <td>0.0</td>\n",
       "    </tr>\n",
       "    <tr>\n",
       "      <th>3</th>\n",
       "      <td>0.0</td>\n",
       "      <td>0.0</td>\n",
       "      <td>0.0</td>\n",
       "      <td>0.0</td>\n",
       "      <td>0.0</td>\n",
       "      <td>0.0</td>\n",
       "      <td>496.0</td>\n",
       "      <td>247.0</td>\n",
       "      <td>0.0</td>\n",
       "      <td>0.0</td>\n",
       "      <td>...</td>\n",
       "      <td>1.0</td>\n",
       "      <td>2.0</td>\n",
       "      <td>0.0</td>\n",
       "      <td>0.0</td>\n",
       "      <td>119.0</td>\n",
       "      <td>1499.0</td>\n",
       "      <td>1380.0</td>\n",
       "      <td>44.0</td>\n",
       "      <td>0.0</td>\n",
       "      <td>0.0</td>\n",
       "    </tr>\n",
       "    <tr>\n",
       "      <th>4</th>\n",
       "      <td>1.0</td>\n",
       "      <td>0.0</td>\n",
       "      <td>0.0</td>\n",
       "      <td>0.0</td>\n",
       "      <td>0.0</td>\n",
       "      <td>0.0</td>\n",
       "      <td>288.0</td>\n",
       "      <td>246.0</td>\n",
       "      <td>0.0</td>\n",
       "      <td>0.0</td>\n",
       "      <td>...</td>\n",
       "      <td>1.0</td>\n",
       "      <td>0.0</td>\n",
       "      <td>2.0</td>\n",
       "      <td>2.0</td>\n",
       "      <td>1386.0</td>\n",
       "      <td>6249.0</td>\n",
       "      <td>4863.0</td>\n",
       "      <td>51.0</td>\n",
       "      <td>1.0</td>\n",
       "      <td>0.0</td>\n",
       "    </tr>\n",
       "    <tr>\n",
       "      <th>...</th>\n",
       "      <td>...</td>\n",
       "      <td>...</td>\n",
       "      <td>...</td>\n",
       "      <td>...</td>\n",
       "      <td>...</td>\n",
       "      <td>...</td>\n",
       "      <td>...</td>\n",
       "      <td>...</td>\n",
       "      <td>...</td>\n",
       "      <td>...</td>\n",
       "      <td>...</td>\n",
       "      <td>...</td>\n",
       "      <td>...</td>\n",
       "      <td>...</td>\n",
       "      <td>...</td>\n",
       "      <td>...</td>\n",
       "      <td>...</td>\n",
       "      <td>...</td>\n",
       "      <td>...</td>\n",
       "      <td>...</td>\n",
       "      <td>...</td>\n",
       "    </tr>\n",
       "    <tr>\n",
       "      <th>701</th>\n",
       "      <td>0.3</td>\n",
       "      <td>0.0</td>\n",
       "      <td>0.0</td>\n",
       "      <td>0.0</td>\n",
       "      <td>0.0</td>\n",
       "      <td>0.0</td>\n",
       "      <td>367.5</td>\n",
       "      <td>246.0</td>\n",
       "      <td>0.0</td>\n",
       "      <td>0.0</td>\n",
       "      <td>...</td>\n",
       "      <td>2.0</td>\n",
       "      <td>2.0</td>\n",
       "      <td>0.0</td>\n",
       "      <td>0.0</td>\n",
       "      <td>-131.0</td>\n",
       "      <td>55.0</td>\n",
       "      <td>186.0</td>\n",
       "      <td>50.0</td>\n",
       "      <td>1.0</td>\n",
       "      <td>0.0</td>\n",
       "    </tr>\n",
       "    <tr>\n",
       "      <th>702</th>\n",
       "      <td>0.3</td>\n",
       "      <td>0.0</td>\n",
       "      <td>0.0</td>\n",
       "      <td>0.0</td>\n",
       "      <td>0.0</td>\n",
       "      <td>0.0</td>\n",
       "      <td>367.5</td>\n",
       "      <td>246.0</td>\n",
       "      <td>0.0</td>\n",
       "      <td>0.0</td>\n",
       "      <td>...</td>\n",
       "      <td>2.0</td>\n",
       "      <td>2.0</td>\n",
       "      <td>0.0</td>\n",
       "      <td>0.0</td>\n",
       "      <td>-36.0</td>\n",
       "      <td>0.0</td>\n",
       "      <td>36.0</td>\n",
       "      <td>65.0</td>\n",
       "      <td>1.0</td>\n",
       "      <td>0.0</td>\n",
       "    </tr>\n",
       "    <tr>\n",
       "      <th>703</th>\n",
       "      <td>0.3</td>\n",
       "      <td>0.0</td>\n",
       "      <td>0.0</td>\n",
       "      <td>0.0</td>\n",
       "      <td>0.0</td>\n",
       "      <td>0.0</td>\n",
       "      <td>367.5</td>\n",
       "      <td>246.0</td>\n",
       "      <td>0.0</td>\n",
       "      <td>0.0</td>\n",
       "      <td>...</td>\n",
       "      <td>2.0</td>\n",
       "      <td>2.0</td>\n",
       "      <td>0.0</td>\n",
       "      <td>1.0</td>\n",
       "      <td>-79499.0</td>\n",
       "      <td>818.0</td>\n",
       "      <td>80317.0</td>\n",
       "      <td>56.0</td>\n",
       "      <td>1.0</td>\n",
       "      <td>0.0</td>\n",
       "    </tr>\n",
       "    <tr>\n",
       "      <th>704</th>\n",
       "      <td>0.3</td>\n",
       "      <td>0.0</td>\n",
       "      <td>0.0</td>\n",
       "      <td>0.0</td>\n",
       "      <td>0.0</td>\n",
       "      <td>0.0</td>\n",
       "      <td>367.5</td>\n",
       "      <td>246.0</td>\n",
       "      <td>0.0</td>\n",
       "      <td>0.0</td>\n",
       "      <td>...</td>\n",
       "      <td>2.0</td>\n",
       "      <td>2.0</td>\n",
       "      <td>0.0</td>\n",
       "      <td>0.0</td>\n",
       "      <td>-3263.0</td>\n",
       "      <td>227.0</td>\n",
       "      <td>3490.0</td>\n",
       "      <td>86.0</td>\n",
       "      <td>1.0</td>\n",
       "      <td>0.0</td>\n",
       "    </tr>\n",
       "    <tr>\n",
       "      <th>705</th>\n",
       "      <td>0.3</td>\n",
       "      <td>0.0</td>\n",
       "      <td>0.0</td>\n",
       "      <td>0.0</td>\n",
       "      <td>0.0</td>\n",
       "      <td>0.0</td>\n",
       "      <td>367.5</td>\n",
       "      <td>246.0</td>\n",
       "      <td>0.0</td>\n",
       "      <td>0.0</td>\n",
       "      <td>...</td>\n",
       "      <td>2.0</td>\n",
       "      <td>2.0</td>\n",
       "      <td>0.0</td>\n",
       "      <td>1.0</td>\n",
       "      <td>740.0</td>\n",
       "      <td>9491.0</td>\n",
       "      <td>8751.0</td>\n",
       "      <td>47.0</td>\n",
       "      <td>1.0</td>\n",
       "      <td>0.0</td>\n",
       "    </tr>\n",
       "  </tbody>\n",
       "</table>\n",
       "<p>706 rows × 156 columns</p>\n",
       "</div>"
      ],
      "text/plain": [
       "     xP_0  assists_0  bonus_0  bps_0  clean_sheets_0  creativity_0  element_0  \\\n",
       "0     0.0        0.0      0.0    0.0             0.0           0.0       72.0   \n",
       "1     3.8        0.0      0.0    0.0             0.0           3.3      411.0   \n",
       "2     0.7        0.0      0.0   13.0             0.0          25.3      575.0   \n",
       "3     0.0        0.0      0.0    0.0             0.0           0.0      496.0   \n",
       "4     1.0        0.0      0.0    0.0             0.0           0.0      288.0   \n",
       "..    ...        ...      ...    ...             ...           ...        ...   \n",
       "701   0.3        0.0      0.0    0.0             0.0           0.0      367.5   \n",
       "702   0.3        0.0      0.0    0.0             0.0           0.0      367.5   \n",
       "703   0.3        0.0      0.0    0.0             0.0           0.0      367.5   \n",
       "704   0.3        0.0      0.0    0.0             0.0           0.0      367.5   \n",
       "705   0.3        0.0      0.0    0.0             0.0           0.0      367.5   \n",
       "\n",
       "     fixture_0  goals_conceded_0  goals_scored_0  ...  team_a_score_-4  \\\n",
       "0        250.0               0.0             0.0  ...              3.0   \n",
       "1        245.0               2.0             0.0  ...              3.0   \n",
       "2        242.0               1.0             0.0  ...              1.0   \n",
       "3        247.0               0.0             0.0  ...              1.0   \n",
       "4        246.0               0.0             0.0  ...              1.0   \n",
       "..         ...               ...             ...  ...              ...   \n",
       "701      246.0               0.0             0.0  ...              2.0   \n",
       "702      246.0               0.0             0.0  ...              2.0   \n",
       "703      246.0               0.0             0.0  ...              2.0   \n",
       "704      246.0               0.0             0.0  ...              2.0   \n",
       "705      246.0               0.0             0.0  ...              2.0   \n",
       "\n",
       "     team_h_score_-4  threat_-4  total_points_-4  transfers_balance_-4  \\\n",
       "0                2.0        0.0              0.0                -388.0   \n",
       "1                2.0        0.0              0.0              -42234.0   \n",
       "2                3.0        2.0              2.0                 911.0   \n",
       "3                2.0        0.0              0.0                 119.0   \n",
       "4                0.0        2.0              2.0                1386.0   \n",
       "..               ...        ...              ...                   ...   \n",
       "701              2.0        0.0              0.0                -131.0   \n",
       "702              2.0        0.0              0.0                 -36.0   \n",
       "703              2.0        0.0              1.0              -79499.0   \n",
       "704              2.0        0.0              0.0               -3263.0   \n",
       "705              2.0        0.0              1.0                 740.0   \n",
       "\n",
       "     transfers_in_-4  transfers_out_-4  value_-4  was_home_-4  yellow_cards_-4  \n",
       "0              490.0             878.0      53.0          0.0              0.0  \n",
       "1             1424.0           43658.0      53.0          0.0              0.0  \n",
       "2             1204.0             293.0      49.0          0.0              0.0  \n",
       "3             1499.0            1380.0      44.0          0.0              0.0  \n",
       "4             6249.0            4863.0      51.0          1.0              0.0  \n",
       "..               ...               ...       ...          ...              ...  \n",
       "701             55.0             186.0      50.0          1.0              0.0  \n",
       "702              0.0              36.0      65.0          1.0              0.0  \n",
       "703            818.0           80317.0      56.0          1.0              0.0  \n",
       "704            227.0            3490.0      86.0          1.0              0.0  \n",
       "705           9491.0            8751.0      47.0          1.0              0.0  \n",
       "\n",
       "[706 rows x 156 columns]"
      ]
     },
     "execution_count": 25,
     "metadata": {},
     "output_type": "execute_result"
    }
   ],
   "source": [
    "df1"
   ]
  },
  {
   "cell_type": "code",
   "execution_count": 26,
   "id": "161c9d38",
   "metadata": {},
   "outputs": [
    {
     "data": {
      "text/html": [
       "<div>\n",
       "<style scoped>\n",
       "    .dataframe tbody tr th:only-of-type {\n",
       "        vertical-align: middle;\n",
       "    }\n",
       "\n",
       "    .dataframe tbody tr th {\n",
       "        vertical-align: top;\n",
       "    }\n",
       "\n",
       "    .dataframe thead th {\n",
       "        text-align: right;\n",
       "    }\n",
       "</style>\n",
       "<table border=\"1\" class=\"dataframe\">\n",
       "  <thead>\n",
       "    <tr style=\"text-align: right;\">\n",
       "      <th></th>\n",
       "      <th>id</th>\n",
       "      <th>pos</th>\n",
       "      <th>teams</th>\n",
       "    </tr>\n",
       "  </thead>\n",
       "  <tbody>\n",
       "    <tr>\n",
       "      <th>0</th>\n",
       "      <td>0</td>\n",
       "      <td>1</td>\n",
       "      <td>3</td>\n",
       "    </tr>\n",
       "    <tr>\n",
       "      <th>1</th>\n",
       "      <td>1</td>\n",
       "      <td>0</td>\n",
       "      <td>21</td>\n",
       "    </tr>\n",
       "    <tr>\n",
       "      <th>2</th>\n",
       "      <td>2</td>\n",
       "      <td>3</td>\n",
       "      <td>4</td>\n",
       "    </tr>\n",
       "    <tr>\n",
       "      <th>3</th>\n",
       "      <td>3</td>\n",
       "      <td>3</td>\n",
       "      <td>3</td>\n",
       "    </tr>\n",
       "    <tr>\n",
       "      <th>4</th>\n",
       "      <td>4</td>\n",
       "      <td>2</td>\n",
       "      <td>16</td>\n",
       "    </tr>\n",
       "    <tr>\n",
       "      <th>...</th>\n",
       "      <td>...</td>\n",
       "      <td>...</td>\n",
       "      <td>...</td>\n",
       "    </tr>\n",
       "    <tr>\n",
       "      <th>933</th>\n",
       "      <td>960</td>\n",
       "      <td>3</td>\n",
       "      <td>16</td>\n",
       "    </tr>\n",
       "    <tr>\n",
       "      <th>934</th>\n",
       "      <td>961</td>\n",
       "      <td>0</td>\n",
       "      <td>8</td>\n",
       "    </tr>\n",
       "    <tr>\n",
       "      <th>935</th>\n",
       "      <td>962</td>\n",
       "      <td>2</td>\n",
       "      <td>2</td>\n",
       "    </tr>\n",
       "    <tr>\n",
       "      <th>936</th>\n",
       "      <td>963</td>\n",
       "      <td>0</td>\n",
       "      <td>10</td>\n",
       "    </tr>\n",
       "    <tr>\n",
       "      <th>937</th>\n",
       "      <td>964</td>\n",
       "      <td>2</td>\n",
       "      <td>1</td>\n",
       "    </tr>\n",
       "  </tbody>\n",
       "</table>\n",
       "<p>938 rows × 3 columns</p>\n",
       "</div>"
      ],
      "text/plain": [
       "      id  pos  teams\n",
       "0      0    1      3\n",
       "1      1    0     21\n",
       "2      2    3      4\n",
       "3      3    3      3\n",
       "4      4    2     16\n",
       "..   ...  ...    ...\n",
       "933  960    3     16\n",
       "934  961    0      8\n",
       "935  962    2      2\n",
       "936  963    0     10\n",
       "937  964    2      1\n",
       "\n",
       "[938 rows x 3 columns]"
      ]
     },
     "execution_count": 26,
     "metadata": {},
     "output_type": "execute_result"
    }
   ],
   "source": []
  },
  {
   "cell_type": "code",
   "execution_count": null,
   "id": "487919f7",
   "metadata": {},
   "outputs": [],
   "source": []
  },
  {
   "cell_type": "code",
   "execution_count": null,
   "id": "40eabeaa",
   "metadata": {},
   "outputs": [],
   "source": []
  },
  {
   "cell_type": "code",
   "execution_count": 27,
   "id": "d0b49a8e",
   "metadata": {},
   "outputs": [],
   "source": [
    "df1 = pd.merge(df1 , df_position, on = 'id' , how = 'inner')"
   ]
  },
  {
   "cell_type": "code",
   "execution_count": 28,
   "id": "ae49fce6",
   "metadata": {},
   "outputs": [],
   "source": [
    "columns = df1.columns\n",
    "remove = ('pos','teams','id','total_points')\n",
    "a = set(columns)\n",
    "b = a.difference(remove)\n",
    "columns = list(b)"
   ]
  },
  {
   "cell_type": "code",
   "execution_count": 29,
   "id": "7bc22b7e",
   "metadata": {},
   "outputs": [],
   "source": [
    "df1.loc[:,columns] = StandardScaler().fit_transform(df1.loc[:, columns])"
   ]
  },
  {
   "cell_type": "code",
   "execution_count": 30,
   "id": "521bfcab",
   "metadata": {},
   "outputs": [],
   "source": [
    "X=df1.drop(['id'  ,'pos','teams'],axis ='columns') \n"
   ]
  },
  {
   "cell_type": "code",
   "execution_count": 31,
   "id": "3cc46766",
   "metadata": {},
   "outputs": [],
   "source": [
    "import pickle\n",
    "\n",
    "with open('model_pickle','rb') as file:\n",
    "    mp = pickle.load(file)"
   ]
  },
  {
   "cell_type": "code",
   "execution_count": 32,
   "id": "310ee4fc",
   "metadata": {},
   "outputs": [],
   "source": [
    "df1['predict'] = mp.predict(X)\n",
    "\n",
    "\n"
   ]
  },
  {
   "cell_type": "code",
   "execution_count": 33,
   "id": "da1b5c7a",
   "metadata": {},
   "outputs": [],
   "source": [
    "df1 = pd.merge(df1 , df_id, on = 'id' , how = 'inner')"
   ]
  },
  {
   "cell_type": "code",
   "execution_count": 34,
   "id": "0089f553",
   "metadata": {},
   "outputs": [],
   "source": [
    "df_op = df1.loc[:,['predict' , 'name' , 'position']]"
   ]
  },
  {
   "cell_type": "code",
   "execution_count": 35,
   "id": "a5ee02ba",
   "metadata": {},
   "outputs": [
    {
     "data": {
      "text/plain": [
       "False"
      ]
     },
     "execution_count": 35,
     "metadata": {},
     "output_type": "execute_result"
    }
   ],
   "source": [
    "df_op.isnull().values.any()"
   ]
  },
  {
   "cell_type": "code",
   "execution_count": 37,
   "id": "14aaa3f1",
   "metadata": {},
   "outputs": [
    {
     "data": {
      "text/plain": [
       "5.46"
      ]
     },
     "execution_count": 37,
     "metadata": {},
     "output_type": "execute_result"
    }
   ],
   "source": [
    "df_op['predict'].max()"
   ]
  },
  {
   "cell_type": "code",
   "execution_count": null,
   "id": "9e142769",
   "metadata": {},
   "outputs": [],
   "source": [
    "df_op.to_csv('final_result')"
   ]
  },
  {
   "cell_type": "code",
   "execution_count": null,
   "id": "f970b9dc",
   "metadata": {},
   "outputs": [],
   "source": []
  },
  {
   "cell_type": "code",
   "execution_count": null,
   "id": "3c7932dd",
   "metadata": {},
   "outputs": [],
   "source": []
  },
  {
   "cell_type": "code",
   "execution_count": null,
   "id": "1f200a0e",
   "metadata": {},
   "outputs": [],
   "source": []
  }
 ],
 "metadata": {
  "kernelspec": {
   "display_name": "Python 3 (ipykernel)",
   "language": "python",
   "name": "python3"
  },
  "language_info": {
   "codemirror_mode": {
    "name": "ipython",
    "version": 3
   },
   "file_extension": ".py",
   "mimetype": "text/x-python",
   "name": "python",
   "nbconvert_exporter": "python",
   "pygments_lexer": "ipython3",
   "version": "3.10.1"
  }
 },
 "nbformat": 4,
 "nbformat_minor": 5
}
