{
 "cells": [
  {
   "cell_type": "code",
   "execution_count": 24,
   "id": "d3ec3652",
   "metadata": {},
   "outputs": [],
   "source": [
    "from telnetlib import X3PAD\n",
    "import pandas as pd\n",
    "import numpy as np\n",
    "from sklearn.preprocessing import StandardScaler\n",
    "import matplotlib.pyplot as plt \n",
    "\n",
    "from sklearn.utils import shuffle\n",
    "import pickle \n",
    "import sqlite3\n"
   ]
  },
  {
   "cell_type": "code",
   "execution_count": null,
   "id": "8029efb9",
   "metadata": {},
   "outputs": [],
   "source": []
  },
  {
   "cell_type": "code",
   "execution_count": 25,
   "id": "80f6dcc1",
   "metadata": {},
   "outputs": [],
   "source": [
    "df_2020 = pd.read_csv('merged_gw2020.csv',low_memory = False)\n",
    "df_2021 = pd.read_csv('merged_gw2021.csv',low_memory = False)\n"
   ]
  },
  {
   "cell_type": "code",
   "execution_count": 26,
   "id": "bea0155b",
   "metadata": {},
   "outputs": [],
   "source": [
    "season_2020 = pd.DataFrame({'season' : ['2019/20']*df_2020.shape[0]   })\n",
    "season_2021 = pd.DataFrame({'season' : ['2020/21']*df_2021.shape[0]   })"
   ]
  },
  {
   "cell_type": "code",
   "execution_count": 27,
   "id": "e4507038",
   "metadata": {},
   "outputs": [],
   "source": [
    "df_2020 =pd.concat([df_2020, season_2020] ,axis = 'columns')\n",
    "df_2021 =pd.concat([df_2021, season_2021] ,axis = 'columns')\n"
   ]
  },
  {
   "cell_type": "code",
   "execution_count": 28,
   "id": "187873f2",
   "metadata": {},
   "outputs": [],
   "source": [
    "df= pd.concat([df_2020 , df_2021], axis = 'index',ignore_index = True)\n",
    "\n"
   ]
  },
  {
   "cell_type": "code",
   "execution_count": null,
   "id": "fe949f50",
   "metadata": {},
   "outputs": [],
   "source": []
  },
  {
   "cell_type": "code",
   "execution_count": null,
   "id": "321ee8ad",
   "metadata": {},
   "outputs": [],
   "source": [
    "\n",
    "\n"
   ]
  },
  {
   "cell_type": "code",
   "execution_count": 29,
   "id": "6b7caa7c",
   "metadata": {
    "scrolled": false
   },
   "outputs": [],
   "source": [
    "df[\"was_home\"] = df[\"was_home\"].astype(int)\n"
   ]
  },
  {
   "cell_type": "code",
   "execution_count": null,
   "id": "ddff074a",
   "metadata": {},
   "outputs": [],
   "source": []
  },
  {
   "cell_type": "code",
   "execution_count": 30,
   "id": "1eef915f",
   "metadata": {},
   "outputs": [],
   "source": [
    "\n",
    "df.sort_values(by=['name','season','GW'], inplace =True)\n",
    "df.reset_index(inplace = True)\n",
    "\n",
    "\n",
    "df.drop(['index'],axis= 'columns' , inplace =True)"
   ]
  },
  {
   "cell_type": "code",
   "execution_count": 31,
   "id": "ee4107bd",
   "metadata": {},
   "outputs": [],
   "source": [
    "df['id'] = df.groupby(['name']).ngroup()"
   ]
  },
  {
   "cell_type": "code",
   "execution_count": 32,
   "id": "c9d62af8",
   "metadata": {},
   "outputs": [],
   "source": [
    "df['pos']= df.groupby(['position']).ngroup()"
   ]
  },
  {
   "cell_type": "code",
   "execution_count": 33,
   "id": "8796246b",
   "metadata": {},
   "outputs": [],
   "source": [
    "df['teams'] = df.groupby(['team']).ngroup()"
   ]
  },
  {
   "cell_type": "code",
   "execution_count": 34,
   "id": "4b6cbd06",
   "metadata": {},
   "outputs": [],
   "source": [
    "identity = df['id'].unique()\n"
   ]
  },
  {
   "cell_type": "markdown",
   "id": "3445a86d",
   "metadata": {},
   "source": [
    "### points milaune thau\n"
   ]
  },
  {
   "cell_type": "code",
   "execution_count": 35,
   "id": "05161d99",
   "metadata": {},
   "outputs": [],
   "source": [
    "#enter value of x where x is the latest gameweek\n",
    "x = 25"
   ]
  },
  {
   "cell_type": "code",
   "execution_count": 36,
   "id": "be3a411e",
   "metadata": {},
   "outputs": [
    {
     "data": {
      "text/html": [
       "<div>\n",
       "<style scoped>\n",
       "    .dataframe tbody tr th:only-of-type {\n",
       "        vertical-align: middle;\n",
       "    }\n",
       "\n",
       "    .dataframe tbody tr th {\n",
       "        vertical-align: top;\n",
       "    }\n",
       "\n",
       "    .dataframe thead th {\n",
       "        text-align: right;\n",
       "    }\n",
       "</style>\n",
       "<table border=\"1\" class=\"dataframe\">\n",
       "  <thead>\n",
       "    <tr style=\"text-align: right;\">\n",
       "      <th></th>\n",
       "      <th>total_points</th>\n",
       "      <th>id</th>\n",
       "    </tr>\n",
       "  </thead>\n",
       "  <tbody>\n",
       "    <tr>\n",
       "      <th>0</th>\n",
       "      <td>0</td>\n",
       "      <td>0</td>\n",
       "    </tr>\n",
       "    <tr>\n",
       "      <th>1</th>\n",
       "      <td>0</td>\n",
       "      <td>0</td>\n",
       "    </tr>\n",
       "    <tr>\n",
       "      <th>2</th>\n",
       "      <td>0</td>\n",
       "      <td>1</td>\n",
       "    </tr>\n",
       "    <tr>\n",
       "      <th>3</th>\n",
       "      <td>2</td>\n",
       "      <td>2</td>\n",
       "    </tr>\n",
       "    <tr>\n",
       "      <th>4</th>\n",
       "      <td>0</td>\n",
       "      <td>5</td>\n",
       "    </tr>\n",
       "    <tr>\n",
       "      <th>...</th>\n",
       "      <td>...</td>\n",
       "      <td>...</td>\n",
       "    </tr>\n",
       "    <tr>\n",
       "      <th>695</th>\n",
       "      <td>1</td>\n",
       "      <td>957</td>\n",
       "    </tr>\n",
       "    <tr>\n",
       "      <th>696</th>\n",
       "      <td>2</td>\n",
       "      <td>957</td>\n",
       "    </tr>\n",
       "    <tr>\n",
       "      <th>697</th>\n",
       "      <td>0</td>\n",
       "      <td>959</td>\n",
       "    </tr>\n",
       "    <tr>\n",
       "      <th>698</th>\n",
       "      <td>0</td>\n",
       "      <td>962</td>\n",
       "    </tr>\n",
       "    <tr>\n",
       "      <th>699</th>\n",
       "      <td>1</td>\n",
       "      <td>963</td>\n",
       "    </tr>\n",
       "  </tbody>\n",
       "</table>\n",
       "<p>700 rows × 2 columns</p>\n",
       "</div>"
      ],
      "text/plain": [
       "     total_points   id\n",
       "0               0    0\n",
       "1               0    0\n",
       "2               0    1\n",
       "3               2    2\n",
       "4               0    5\n",
       "..            ...  ...\n",
       "695             1  957\n",
       "696             2  957\n",
       "697             0  959\n",
       "698             0  962\n",
       "699             1  963\n",
       "\n",
       "[700 rows x 2 columns]"
      ]
     },
     "execution_count": 36,
     "metadata": {},
     "output_type": "execute_result"
    }
   ],
   "source": [
    "filt = (df['GW'] == x) & (df['season']=='2020/21')\n",
    "df_points = df.loc[filt , ['total_points','id' ]]\n",
    "df_points.reset_index(inplace = True)\n",
    "\n",
    "\n",
    "df_points.drop(['index'],axis= 'columns' , inplace =True)\n",
    "df_points"
   ]
  },
  {
   "cell_type": "code",
   "execution_count": 37,
   "id": "04987acb",
   "metadata": {},
   "outputs": [],
   "source": [
    "y=x-1\n",
    "Gameweeks=[]"
   ]
  },
  {
   "cell_type": "code",
   "execution_count": 38,
   "id": "62001d7a",
   "metadata": {},
   "outputs": [],
   "source": [
    "for i in range(5):\n",
    "    Gameweeks.append(y)\n",
    "    y=y-1\n"
   ]
  },
  {
   "cell_type": "code",
   "execution_count": 39,
   "id": "485c0ab8",
   "metadata": {},
   "outputs": [],
   "source": [
    "dataframes = {}"
   ]
  },
  {
   "cell_type": "code",
   "execution_count": null,
   "id": "3d20a615",
   "metadata": {},
   "outputs": [],
   "source": []
  },
  {
   "cell_type": "code",
   "execution_count": 40,
   "id": "43721576",
   "metadata": {
    "scrolled": true
   },
   "outputs": [
    {
     "name": "stderr",
     "output_type": "stream",
     "text": [
      "/home/aavash/Downloads/jupyter/environment/lib/python3.8/site-packages/pandas/core/frame.py:4906: SettingWithCopyWarning: \n",
      "A value is trying to be set on a copy of a slice from a DataFrame\n",
      "\n",
      "See the caveats in the documentation: https://pandas.pydata.org/pandas-docs/stable/user_guide/indexing.html#returning-a-view-versus-a-copy\n",
      "  return super().drop(\n"
     ]
    }
   ],
   "source": [
    "for GW in Gameweeks:\n",
    "    filt=(df['GW'] == GW) & (df['season'] == '2020/21')\n",
    "    dataframes[GW] = df[filt]\n",
    "    dataframes[GW].reset_index(inplace = True)\n",
    "    dataframes[GW].drop(['index'],axis= 'columns' , inplace =True)\n",
    "    dataframes[GW].drop([ 'kickoff_time','season', 'name' , 'position','pos' ,'GW' ,'team','teams'],axis= 'columns' , inplace =True)\n",
    "    "
   ]
  },
  {
   "cell_type": "code",
   "execution_count": 41,
   "id": "6954232a",
   "metadata": {},
   "outputs": [
    {
     "data": {
      "text/plain": [
       "Index(['xP', 'assists', 'bonus', 'bps', 'clean_sheets', 'creativity',\n",
       "       'element', 'fixture', 'goals_conceded', 'goals_scored', 'ict_index',\n",
       "       'influence', 'minutes', 'opponent_team', 'own_goals',\n",
       "       'penalties_missed', 'penalties_saved', 'red_cards', 'round', 'saves',\n",
       "       'selected', 'team_a_score', 'team_h_score', 'threat', 'total_points',\n",
       "       'transfers_balance', 'transfers_in', 'transfers_out', 'value',\n",
       "       'was_home', 'yellow_cards', 'id'],\n",
       "      dtype='object')"
      ]
     },
     "execution_count": 41,
     "metadata": {},
     "output_type": "execute_result"
    }
   ],
   "source": [
    "dataframes[24].columns"
   ]
  },
  {
   "cell_type": "code",
   "execution_count": null,
   "id": "8c286195",
   "metadata": {
    "scrolled": true
   },
   "outputs": [],
   "source": []
  },
  {
   "cell_type": "code",
   "execution_count": 42,
   "id": "fbef8c69",
   "metadata": {},
   "outputs": [],
   "source": [
    "n = 0\n",
    "for keys in dataframes:\n",
    "    column = []\n",
    "    \n",
    "    for value in dataframes[keys].columns:\n",
    "        \n",
    "        if (value != 'id')  & (value!='team'):\n",
    "            value = value +f'_{n}' \n",
    "        column.append(value)\n",
    "        \n",
    "    dataframes[keys].columns = column\n",
    "    n=n-1       "
   ]
  },
  {
   "cell_type": "code",
   "execution_count": null,
   "id": "4eb7cfd9",
   "metadata": {},
   "outputs": [],
   "source": []
  },
  {
   "cell_type": "code",
   "execution_count": 45,
   "id": "7d57e1b1",
   "metadata": {},
   "outputs": [
    {
     "name": "stderr",
     "output_type": "stream",
     "text": [
      "/home/aavash/Downloads/jupyter/environment/lib/python3.8/site-packages/pandas/util/_decorators.py:311: SettingWithCopyWarning: \n",
      "A value is trying to be set on a copy of a slice from a DataFrame\n",
      "\n",
      "See the caveats in the documentation: https://pandas.pydata.org/pandas-docs/stable/user_guide/indexing.html#returning-a-view-versus-a-copy\n",
      "  return func(*args, **kwargs)\n"
     ]
    }
   ],
   "source": [
    "for keys in dataframes:\n",
    "    dataframes[keys].drop_duplicates(subset='id' , keep ='first',inplace = True)"
   ]
  },
  {
   "cell_type": "code",
   "execution_count": 46,
   "id": "9d410c8f",
   "metadata": {},
   "outputs": [
    {
     "name": "stdout",
     "output_type": "stream",
     "text": [
      "634\n",
      "(634, 32)\n",
      "696\n",
      "(696, 32)\n",
      "622\n",
      "(622, 32)\n",
      "617\n",
      "(617, 32)\n",
      "460\n",
      "(460, 32)\n"
     ]
    }
   ],
   "source": [
    "for keys in dataframes:\n",
    "    print(dataframes[keys]['id'].nunique())\n",
    "    print(dataframes[keys].shape)\n",
    "    "
   ]
  },
  {
   "cell_type": "code",
   "execution_count": null,
   "id": "1073eab7",
   "metadata": {},
   "outputs": [],
   "source": []
  },
  {
   "cell_type": "code",
   "execution_count": 47,
   "id": "e76fa47e",
   "metadata": {},
   "outputs": [],
   "source": [
    "dataframes[23].to_csv('check.csv')"
   ]
  },
  {
   "cell_type": "code",
   "execution_count": 48,
   "id": "58a43383",
   "metadata": {},
   "outputs": [],
   "source": [
    "\n",
    "df1 = pd.merge(dataframes[x-1] , dataframes[x-2], on = 'id' , how = 'outer')\n",
    "df1 = pd.merge(df1 , dataframes[x-3], on = 'id' , how = 'outer')\n",
    "df1 = pd.merge(df1 , dataframes[x-4], on = 'id' , how = 'outer')\n",
    "df1 = pd.merge(df1 , dataframes[x-5], on = 'id' , how = 'outer')\n"
   ]
  },
  {
   "cell_type": "code",
   "execution_count": 49,
   "id": "1b843bbd",
   "metadata": {},
   "outputs": [],
   "source": [
    "filt = (df['GW'] == x-1) | (df['GW'] == x-2) | (df['GW'] == x-3) | (df['GW'] == x-4) | (df['GW'] == x-5)\n",
    "df_position = df.loc[filt , ['id' , 'pos','teams']]"
   ]
  },
  {
   "cell_type": "code",
   "execution_count": 50,
   "id": "ea340bec",
   "metadata": {},
   "outputs": [],
   "source": [
    "df_position.drop_duplicates(subset='id',keep = 'first',inplace = True)\n",
    "df_position.reset_index(inplace = True)\n",
    "df_position.drop(['index'],axis= 'columns' , inplace =True)"
   ]
  },
  {
   "cell_type": "code",
   "execution_count": 51,
   "id": "3aee29a6",
   "metadata": {},
   "outputs": [],
   "source": [
    "df1.drop_duplicates(subset='id',keep = 'first',inplace = True)\n",
    "df1.reset_index(inplace = True)\n",
    "df1.drop(['index'],axis= 'columns' , inplace =True)"
   ]
  },
  {
   "cell_type": "code",
   "execution_count": 52,
   "id": "a5c4c5b7",
   "metadata": {},
   "outputs": [],
   "source": [
    "df1 = pd.merge(df1 , df_position, on = 'id' , how = 'inner')"
   ]
  },
  {
   "cell_type": "code",
   "execution_count": 58,
   "id": "c4472834",
   "metadata": {},
   "outputs": [
    {
     "data": {
      "text/plain": [
       "25"
      ]
     },
     "execution_count": 58,
     "metadata": {},
     "output_type": "execute_result"
    }
   ],
   "source": [
    "x\n"
   ]
  },
  {
   "cell_type": "code",
   "execution_count": 54,
   "id": "ed571eeb",
   "metadata": {},
   "outputs": [],
   "source": [
    "filt = df['GW']== x\n",
    "df_points = df.loc[filt,['id' , 'total_points']]\n",
    "df_points.drop_duplicates(subset='id',keep = 'first',inplace = True)\n",
    "df_points.reset_index(inplace = True)\n",
    "df_points.drop(['index'],axis= 'columns' , inplace =True)"
   ]
  },
  {
   "cell_type": "code",
   "execution_count": 55,
   "id": "796dae7e",
   "metadata": {},
   "outputs": [
    {
     "data": {
      "text/html": [
       "<div>\n",
       "<style scoped>\n",
       "    .dataframe tbody tr th:only-of-type {\n",
       "        vertical-align: middle;\n",
       "    }\n",
       "\n",
       "    .dataframe tbody tr th {\n",
       "        vertical-align: top;\n",
       "    }\n",
       "\n",
       "    .dataframe thead th {\n",
       "        text-align: right;\n",
       "    }\n",
       "</style>\n",
       "<table border=\"1\" class=\"dataframe\">\n",
       "  <thead>\n",
       "    <tr style=\"text-align: right;\">\n",
       "      <th></th>\n",
       "      <th>id</th>\n",
       "      <th>total_points</th>\n",
       "    </tr>\n",
       "  </thead>\n",
       "  <tbody>\n",
       "    <tr>\n",
       "      <th>0</th>\n",
       "      <td>0</td>\n",
       "      <td>0</td>\n",
       "    </tr>\n",
       "    <tr>\n",
       "      <th>1</th>\n",
       "      <td>1</td>\n",
       "      <td>2</td>\n",
       "    </tr>\n",
       "    <tr>\n",
       "      <th>2</th>\n",
       "      <td>2</td>\n",
       "      <td>2</td>\n",
       "    </tr>\n",
       "    <tr>\n",
       "      <th>3</th>\n",
       "      <td>3</td>\n",
       "      <td>0</td>\n",
       "    </tr>\n",
       "    <tr>\n",
       "      <th>4</th>\n",
       "      <td>4</td>\n",
       "      <td>3</td>\n",
       "    </tr>\n",
       "    <tr>\n",
       "      <th>...</th>\n",
       "      <td>...</td>\n",
       "      <td>...</td>\n",
       "    </tr>\n",
       "    <tr>\n",
       "      <th>911</th>\n",
       "      <td>960</td>\n",
       "      <td>0</td>\n",
       "    </tr>\n",
       "    <tr>\n",
       "      <th>912</th>\n",
       "      <td>961</td>\n",
       "      <td>0</td>\n",
       "    </tr>\n",
       "    <tr>\n",
       "      <th>913</th>\n",
       "      <td>962</td>\n",
       "      <td>0</td>\n",
       "    </tr>\n",
       "    <tr>\n",
       "      <th>914</th>\n",
       "      <td>963</td>\n",
       "      <td>2</td>\n",
       "    </tr>\n",
       "    <tr>\n",
       "      <th>915</th>\n",
       "      <td>964</td>\n",
       "      <td>0</td>\n",
       "    </tr>\n",
       "  </tbody>\n",
       "</table>\n",
       "<p>916 rows × 2 columns</p>\n",
       "</div>"
      ],
      "text/plain": [
       "      id  total_points\n",
       "0      0             0\n",
       "1      1             2\n",
       "2      2             2\n",
       "3      3             0\n",
       "4      4             3\n",
       "..   ...           ...\n",
       "911  960             0\n",
       "912  961             0\n",
       "913  962             0\n",
       "914  963             2\n",
       "915  964             0\n",
       "\n",
       "[916 rows x 2 columns]"
      ]
     },
     "execution_count": 55,
     "metadata": {},
     "output_type": "execute_result"
    }
   ],
   "source": [
    "df_points"
   ]
  },
  {
   "cell_type": "code",
   "execution_count": null,
   "id": "5c1d2bbb",
   "metadata": {},
   "outputs": [],
   "source": []
  },
  {
   "cell_type": "code",
   "execution_count": null,
   "id": "400a3309",
   "metadata": {},
   "outputs": [],
   "source": [
    "\n",
    "df1 = pd.merge(df1 , df_points, on = 'id' , how = 'inner')\n"
   ]
  },
  {
   "cell_type": "code",
   "execution_count": 59,
   "id": "e79f677e",
   "metadata": {},
   "outputs": [],
   "source": []
  },
  {
   "cell_type": "code",
   "execution_count": 60,
   "id": "39ced071",
   "metadata": {
    "scrolled": true
   },
   "outputs": [
    {
     "data": {
      "text/html": [
       "<div>\n",
       "<style scoped>\n",
       "    .dataframe tbody tr th:only-of-type {\n",
       "        vertical-align: middle;\n",
       "    }\n",
       "\n",
       "    .dataframe tbody tr th {\n",
       "        vertical-align: top;\n",
       "    }\n",
       "\n",
       "    .dataframe thead th {\n",
       "        text-align: right;\n",
       "    }\n",
       "</style>\n",
       "<table border=\"1\" class=\"dataframe\">\n",
       "  <thead>\n",
       "    <tr style=\"text-align: right;\">\n",
       "      <th></th>\n",
       "      <th>xP_0</th>\n",
       "      <th>assists_0</th>\n",
       "      <th>bonus_0</th>\n",
       "      <th>bps_0</th>\n",
       "      <th>clean_sheets_0</th>\n",
       "      <th>creativity_0</th>\n",
       "      <th>element_0</th>\n",
       "      <th>fixture_0</th>\n",
       "      <th>goals_conceded_0</th>\n",
       "      <th>goals_scored_0</th>\n",
       "      <th>...</th>\n",
       "      <th>threat_-4</th>\n",
       "      <th>total_points_-4</th>\n",
       "      <th>transfers_balance_-4</th>\n",
       "      <th>transfers_in_-4</th>\n",
       "      <th>transfers_out_-4</th>\n",
       "      <th>value_-4</th>\n",
       "      <th>was_home_-4</th>\n",
       "      <th>yellow_cards_-4</th>\n",
       "      <th>pos</th>\n",
       "      <th>teams</th>\n",
       "    </tr>\n",
       "  </thead>\n",
       "  <tbody>\n",
       "    <tr>\n",
       "      <th>0</th>\n",
       "      <td>6.5</td>\n",
       "      <td>0.0</td>\n",
       "      <td>2.0</td>\n",
       "      <td>30.0</td>\n",
       "      <td>1.0</td>\n",
       "      <td>25.8</td>\n",
       "      <td>411.0</td>\n",
       "      <td>235.0</td>\n",
       "      <td>0.0</td>\n",
       "      <td>0.0</td>\n",
       "      <td>...</td>\n",
       "      <td>0.0</td>\n",
       "      <td>0.0</td>\n",
       "      <td>-26734.0</td>\n",
       "      <td>479.0</td>\n",
       "      <td>27213.0</td>\n",
       "      <td>53.0</td>\n",
       "      <td>0.0</td>\n",
       "      <td>0.0</td>\n",
       "      <td>0</td>\n",
       "      <td>21</td>\n",
       "    </tr>\n",
       "    <tr>\n",
       "      <th>1</th>\n",
       "      <td>1.3</td>\n",
       "      <td>0.0</td>\n",
       "      <td>0.0</td>\n",
       "      <td>5.0</td>\n",
       "      <td>0.0</td>\n",
       "      <td>0.8</td>\n",
       "      <td>575.0</td>\n",
       "      <td>233.0</td>\n",
       "      <td>0.0</td>\n",
       "      <td>0.0</td>\n",
       "      <td>...</td>\n",
       "      <td>24.0</td>\n",
       "      <td>7.0</td>\n",
       "      <td>-3.0</td>\n",
       "      <td>25.0</td>\n",
       "      <td>28.0</td>\n",
       "      <td>49.0</td>\n",
       "      <td>0.0</td>\n",
       "      <td>0.0</td>\n",
       "      <td>3</td>\n",
       "      <td>4</td>\n",
       "    </tr>\n",
       "    <tr>\n",
       "      <th>2</th>\n",
       "      <td>9.0</td>\n",
       "      <td>0.0</td>\n",
       "      <td>2.0</td>\n",
       "      <td>31.0</td>\n",
       "      <td>1.0</td>\n",
       "      <td>1.0</td>\n",
       "      <td>559.0</td>\n",
       "      <td>236.0</td>\n",
       "      <td>0.0</td>\n",
       "      <td>0.0</td>\n",
       "      <td>...</td>\n",
       "      <td>NaN</td>\n",
       "      <td>NaN</td>\n",
       "      <td>NaN</td>\n",
       "      <td>NaN</td>\n",
       "      <td>NaN</td>\n",
       "      <td>NaN</td>\n",
       "      <td>NaN</td>\n",
       "      <td>NaN</td>\n",
       "      <td>2</td>\n",
       "      <td>16</td>\n",
       "    </tr>\n",
       "    <tr>\n",
       "      <th>3</th>\n",
       "      <td>0.0</td>\n",
       "      <td>0.0</td>\n",
       "      <td>0.0</td>\n",
       "      <td>0.0</td>\n",
       "      <td>0.0</td>\n",
       "      <td>0.0</td>\n",
       "      <td>496.0</td>\n",
       "      <td>231.0</td>\n",
       "      <td>0.0</td>\n",
       "      <td>0.0</td>\n",
       "      <td>...</td>\n",
       "      <td>NaN</td>\n",
       "      <td>NaN</td>\n",
       "      <td>NaN</td>\n",
       "      <td>NaN</td>\n",
       "      <td>NaN</td>\n",
       "      <td>NaN</td>\n",
       "      <td>NaN</td>\n",
       "      <td>NaN</td>\n",
       "      <td>3</td>\n",
       "      <td>1</td>\n",
       "    </tr>\n",
       "    <tr>\n",
       "      <th>4</th>\n",
       "      <td>1.0</td>\n",
       "      <td>0.0</td>\n",
       "      <td>0.0</td>\n",
       "      <td>0.0</td>\n",
       "      <td>0.0</td>\n",
       "      <td>0.0</td>\n",
       "      <td>288.0</td>\n",
       "      <td>233.0</td>\n",
       "      <td>0.0</td>\n",
       "      <td>0.0</td>\n",
       "      <td>...</td>\n",
       "      <td>0.0</td>\n",
       "      <td>2.0</td>\n",
       "      <td>-1478.0</td>\n",
       "      <td>2307.0</td>\n",
       "      <td>3785.0</td>\n",
       "      <td>51.0</td>\n",
       "      <td>1.0</td>\n",
       "      <td>0.0</td>\n",
       "      <td>0</td>\n",
       "      <td>13</td>\n",
       "    </tr>\n",
       "    <tr>\n",
       "      <th>...</th>\n",
       "      <td>...</td>\n",
       "      <td>...</td>\n",
       "      <td>...</td>\n",
       "      <td>...</td>\n",
       "      <td>...</td>\n",
       "      <td>...</td>\n",
       "      <td>...</td>\n",
       "      <td>...</td>\n",
       "      <td>...</td>\n",
       "      <td>...</td>\n",
       "      <td>...</td>\n",
       "      <td>...</td>\n",
       "      <td>...</td>\n",
       "      <td>...</td>\n",
       "      <td>...</td>\n",
       "      <td>...</td>\n",
       "      <td>...</td>\n",
       "      <td>...</td>\n",
       "      <td>...</td>\n",
       "      <td>...</td>\n",
       "      <td>...</td>\n",
       "    </tr>\n",
       "    <tr>\n",
       "      <th>699</th>\n",
       "      <td>NaN</td>\n",
       "      <td>NaN</td>\n",
       "      <td>NaN</td>\n",
       "      <td>NaN</td>\n",
       "      <td>NaN</td>\n",
       "      <td>NaN</td>\n",
       "      <td>NaN</td>\n",
       "      <td>NaN</td>\n",
       "      <td>NaN</td>\n",
       "      <td>NaN</td>\n",
       "      <td>...</td>\n",
       "      <td>0.0</td>\n",
       "      <td>0.0</td>\n",
       "      <td>-81388.0</td>\n",
       "      <td>2479.0</td>\n",
       "      <td>83867.0</td>\n",
       "      <td>56.0</td>\n",
       "      <td>1.0</td>\n",
       "      <td>0.0</td>\n",
       "      <td>0</td>\n",
       "      <td>5</td>\n",
       "    </tr>\n",
       "    <tr>\n",
       "      <th>700</th>\n",
       "      <td>NaN</td>\n",
       "      <td>NaN</td>\n",
       "      <td>NaN</td>\n",
       "      <td>NaN</td>\n",
       "      <td>NaN</td>\n",
       "      <td>NaN</td>\n",
       "      <td>NaN</td>\n",
       "      <td>NaN</td>\n",
       "      <td>NaN</td>\n",
       "      <td>NaN</td>\n",
       "      <td>...</td>\n",
       "      <td>NaN</td>\n",
       "      <td>NaN</td>\n",
       "      <td>NaN</td>\n",
       "      <td>NaN</td>\n",
       "      <td>NaN</td>\n",
       "      <td>NaN</td>\n",
       "      <td>NaN</td>\n",
       "      <td>NaN</td>\n",
       "      <td>2</td>\n",
       "      <td>3</td>\n",
       "    </tr>\n",
       "    <tr>\n",
       "      <th>701</th>\n",
       "      <td>NaN</td>\n",
       "      <td>NaN</td>\n",
       "      <td>NaN</td>\n",
       "      <td>NaN</td>\n",
       "      <td>NaN</td>\n",
       "      <td>NaN</td>\n",
       "      <td>NaN</td>\n",
       "      <td>NaN</td>\n",
       "      <td>NaN</td>\n",
       "      <td>NaN</td>\n",
       "      <td>...</td>\n",
       "      <td>0.0</td>\n",
       "      <td>0.0</td>\n",
       "      <td>-3728.0</td>\n",
       "      <td>158.0</td>\n",
       "      <td>3886.0</td>\n",
       "      <td>86.0</td>\n",
       "      <td>1.0</td>\n",
       "      <td>0.0</td>\n",
       "      <td>1</td>\n",
       "      <td>5</td>\n",
       "    </tr>\n",
       "    <tr>\n",
       "      <th>702</th>\n",
       "      <td>NaN</td>\n",
       "      <td>NaN</td>\n",
       "      <td>NaN</td>\n",
       "      <td>NaN</td>\n",
       "      <td>NaN</td>\n",
       "      <td>NaN</td>\n",
       "      <td>NaN</td>\n",
       "      <td>NaN</td>\n",
       "      <td>NaN</td>\n",
       "      <td>NaN</td>\n",
       "      <td>...</td>\n",
       "      <td>17.0</td>\n",
       "      <td>1.0</td>\n",
       "      <td>4822.0</td>\n",
       "      <td>8551.0</td>\n",
       "      <td>3729.0</td>\n",
       "      <td>47.0</td>\n",
       "      <td>1.0</td>\n",
       "      <td>0.0</td>\n",
       "      <td>0</td>\n",
       "      <td>5</td>\n",
       "    </tr>\n",
       "    <tr>\n",
       "      <th>703</th>\n",
       "      <td>NaN</td>\n",
       "      <td>NaN</td>\n",
       "      <td>NaN</td>\n",
       "      <td>NaN</td>\n",
       "      <td>NaN</td>\n",
       "      <td>NaN</td>\n",
       "      <td>NaN</td>\n",
       "      <td>NaN</td>\n",
       "      <td>NaN</td>\n",
       "      <td>NaN</td>\n",
       "      <td>...</td>\n",
       "      <td>14.0</td>\n",
       "      <td>1.0</td>\n",
       "      <td>-12608.0</td>\n",
       "      <td>2346.0</td>\n",
       "      <td>14954.0</td>\n",
       "      <td>44.0</td>\n",
       "      <td>0.0</td>\n",
       "      <td>1.0</td>\n",
       "      <td>3</td>\n",
       "      <td>3</td>\n",
       "    </tr>\n",
       "  </tbody>\n",
       "</table>\n",
       "<p>704 rows × 158 columns</p>\n",
       "</div>"
      ],
      "text/plain": [
       "     xP_0  assists_0  bonus_0  bps_0  clean_sheets_0  creativity_0  element_0  \\\n",
       "0     6.5        0.0      2.0   30.0             1.0          25.8      411.0   \n",
       "1     1.3        0.0      0.0    5.0             0.0           0.8      575.0   \n",
       "2     9.0        0.0      2.0   31.0             1.0           1.0      559.0   \n",
       "3     0.0        0.0      0.0    0.0             0.0           0.0      496.0   \n",
       "4     1.0        0.0      0.0    0.0             0.0           0.0      288.0   \n",
       "..    ...        ...      ...    ...             ...           ...        ...   \n",
       "699   NaN        NaN      NaN    NaN             NaN           NaN        NaN   \n",
       "700   NaN        NaN      NaN    NaN             NaN           NaN        NaN   \n",
       "701   NaN        NaN      NaN    NaN             NaN           NaN        NaN   \n",
       "702   NaN        NaN      NaN    NaN             NaN           NaN        NaN   \n",
       "703   NaN        NaN      NaN    NaN             NaN           NaN        NaN   \n",
       "\n",
       "     fixture_0  goals_conceded_0  goals_scored_0  ...  threat_-4  \\\n",
       "0        235.0               0.0             0.0  ...        0.0   \n",
       "1        233.0               0.0             0.0  ...       24.0   \n",
       "2        236.0               0.0             0.0  ...        NaN   \n",
       "3        231.0               0.0             0.0  ...        NaN   \n",
       "4        233.0               0.0             0.0  ...        0.0   \n",
       "..         ...               ...             ...  ...        ...   \n",
       "699        NaN               NaN             NaN  ...        0.0   \n",
       "700        NaN               NaN             NaN  ...        NaN   \n",
       "701        NaN               NaN             NaN  ...        0.0   \n",
       "702        NaN               NaN             NaN  ...       17.0   \n",
       "703        NaN               NaN             NaN  ...       14.0   \n",
       "\n",
       "     total_points_-4  transfers_balance_-4  transfers_in_-4  transfers_out_-4  \\\n",
       "0                0.0              -26734.0            479.0           27213.0   \n",
       "1                7.0                  -3.0             25.0              28.0   \n",
       "2                NaN                   NaN              NaN               NaN   \n",
       "3                NaN                   NaN              NaN               NaN   \n",
       "4                2.0               -1478.0           2307.0            3785.0   \n",
       "..               ...                   ...              ...               ...   \n",
       "699              0.0              -81388.0           2479.0           83867.0   \n",
       "700              NaN                   NaN              NaN               NaN   \n",
       "701              0.0               -3728.0            158.0            3886.0   \n",
       "702              1.0                4822.0           8551.0            3729.0   \n",
       "703              1.0              -12608.0           2346.0           14954.0   \n",
       "\n",
       "     value_-4  was_home_-4  yellow_cards_-4  pos  teams  \n",
       "0        53.0          0.0              0.0    0     21  \n",
       "1        49.0          0.0              0.0    3      4  \n",
       "2         NaN          NaN              NaN    2     16  \n",
       "3         NaN          NaN              NaN    3      1  \n",
       "4        51.0          1.0              0.0    0     13  \n",
       "..        ...          ...              ...  ...    ...  \n",
       "699      56.0          1.0              0.0    0      5  \n",
       "700       NaN          NaN              NaN    2      3  \n",
       "701      86.0          1.0              0.0    1      5  \n",
       "702      47.0          1.0              0.0    0      5  \n",
       "703      44.0          0.0              1.0    3      3  \n",
       "\n",
       "[704 rows x 158 columns]"
      ]
     },
     "execution_count": 60,
     "metadata": {},
     "output_type": "execute_result"
    }
   ],
   "source": []
  },
  {
   "cell_type": "code",
   "execution_count": null,
   "id": "b05505b1",
   "metadata": {},
   "outputs": [],
   "source": []
  },
  {
   "cell_type": "code",
   "execution_count": null,
   "id": "84a4cfda",
   "metadata": {},
   "outputs": [],
   "source": [
    "df1 = df1.fillna(df1.median())"
   ]
  },
  {
   "cell_type": "code",
   "execution_count": null,
   "id": "51851264",
   "metadata": {},
   "outputs": [],
   "source": [
    "mean = df1['total_points'].mean()\n",
    "std = df['total_points'].std()"
   ]
  },
  {
   "cell_type": "code",
   "execution_count": null,
   "id": "894ba7cd",
   "metadata": {},
   "outputs": [],
   "source": [
    "\n",
    "    "
   ]
  },
  {
   "cell_type": "code",
   "execution_count": null,
   "id": "e06e6441",
   "metadata": {},
   "outputs": [],
   "source": []
  },
  {
   "cell_type": "code",
   "execution_count": null,
   "id": "14553a8b",
   "metadata": {},
   "outputs": [],
   "source": []
  },
  {
   "cell_type": "code",
   "execution_count": null,
   "id": "e57629a4",
   "metadata": {},
   "outputs": [],
   "source": []
  },
  {
   "cell_type": "code",
   "execution_count": null,
   "id": "7092ec5e",
   "metadata": {},
   "outputs": [],
   "source": []
  },
  {
   "cell_type": "code",
   "execution_count": null,
   "id": "3bad3b68",
   "metadata": {},
   "outputs": [],
   "source": []
  },
  {
   "cell_type": "code",
   "execution_count": null,
   "id": "20924c05",
   "metadata": {},
   "outputs": [],
   "source": []
  },
  {
   "cell_type": "code",
   "execution_count": null,
   "id": "738f3dbf",
   "metadata": {},
   "outputs": [],
   "source": []
  },
  {
   "cell_type": "code",
   "execution_count": null,
   "id": "ce7104d3",
   "metadata": {},
   "outputs": [],
   "source": [
    "df1"
   ]
  },
  {
   "cell_type": "code",
   "execution_count": null,
   "id": "ef3d4b5f",
   "metadata": {},
   "outputs": [],
   "source": [
    "total_row= df1.shape[0]\n",
    "slicer = int(total_row*0.8)"
   ]
  },
  {
   "cell_type": "code",
   "execution_count": null,
   "id": "9f2f5fdf",
   "metadata": {},
   "outputs": [],
   "source": [
    "X=df1.drop(['id' ,'total_points' ],axis ='columns') \n"
   ]
  },
  {
   "cell_type": "code",
   "execution_count": null,
   "id": "a219634e",
   "metadata": {},
   "outputs": [],
   "source": [
    "y_train = df1.loc[0:slicer, {'total_points'}]\n",
    "\n",
    "y_test = df1.loc[slicer:, {'total_points'}]\n"
   ]
  },
  {
   "cell_type": "code",
   "execution_count": null,
   "id": "56302588",
   "metadata": {},
   "outputs": [],
   "source": [
    "x_train = x_train.to_numpy()\n",
    "y_train = y_train.to_numpy()\n",
    "x_test = x_test.to_numpy()\n",
    "y_test = y_test.to_numpy()"
   ]
  },
  {
   "cell_type": "code",
   "execution_count": null,
   "id": "132d6d39",
   "metadata": {},
   "outputs": [],
   "source": []
  },
  {
   "cell_type": "code",
   "execution_count": null,
   "id": "4804511b",
   "metadata": {},
   "outputs": [],
   "source": [
    "x_train = np.concatenate((np.ones((x_train.shape[0],1)), x_train), axis=1)\n",
    "x_test = np.concatenate((np.ones((x_test.shape[0],1)), x_test), axis=1)\n",
    "\n"
   ]
  },
  {
   "cell_type": "code",
   "execution_count": null,
   "id": "7431fac5",
   "metadata": {},
   "outputs": [],
   "source": [
    "x_test.shape"
   ]
  },
  {
   "cell_type": "code",
   "execution_count": null,
   "id": "161d26a4",
   "metadata": {},
   "outputs": [],
   "source": [
    "x_train.shape"
   ]
  },
  {
   "cell_type": "code",
   "execution_count": null,
   "id": "b9458fc1",
   "metadata": {},
   "outputs": [],
   "source": [
    "theta = np.ones((x_train.shape[1],1))"
   ]
  },
  {
   "cell_type": "code",
   "execution_count": null,
   "id": "0e4d44b5",
   "metadata": {},
   "outputs": [],
   "source": [
    "x_train.shape"
   ]
  },
  {
   "cell_type": "code",
   "execution_count": null,
   "id": "c593c0ee",
   "metadata": {},
   "outputs": [],
   "source": []
  },
  {
   "cell_type": "code",
   "execution_count": null,
   "id": "e6604e6c",
   "metadata": {},
   "outputs": [],
   "source": []
  },
  {
   "cell_type": "code",
   "execution_count": null,
   "id": "a0b33329",
   "metadata": {},
   "outputs": [],
   "source": [
    "alpha = 0.001\n",
    "itrs = 500"
   ]
  },
  {
   "cell_type": "code",
   "execution_count": null,
   "id": "db69acc5",
   "metadata": {},
   "outputs": [],
   "source": [
    "def costfunction(X , Y , theta):\n",
    "    X.shape[0]\n",
    "    temp = np.square(np.matmul(X,theta)) - Y\n",
    "    cost = (1/(2*X.shape[0])*np.sum(temp))\n",
    "    return cost "
   ]
  },
  {
   "cell_type": "code",
   "execution_count": null,
   "id": "605af430",
   "metadata": {},
   "outputs": [],
   "source": [
    "plot_j_theta_train =[]\n",
    "plot_j_theta_test =[]\n",
    "itr = []"
   ]
  },
  {
   "cell_type": "code",
   "execution_count": null,
   "id": "c88568a9",
   "metadata": {},
   "outputs": [],
   "source": [
    "m = x_train.shape[0]"
   ]
  },
  {
   "cell_type": "code",
   "execution_count": null,
   "id": "f0c4e11e",
   "metadata": {},
   "outputs": [],
   "source": [
    "for i in range(itrs):\n",
    "    gradient =np.matmul(np.transpose(x_train),np.matmul(x_train,theta)-y_train)\n",
    "    theta = theta - (alpha/m) *gradient  \n",
    "    J_theta_train = costfunction(x_train ,y_train , theta)\n",
    "    J_theta_test = costfunction(x_test,y_test,theta)\n",
    "    print(i , \"train_cost_fxn\" , J_theta_train, \"test_cost_fxn\" , J_theta_test)\n",
    "    \n",
    "    \n",
    "    plot_j_theta_train.append(J_theta_train)\n",
    "    plot_j_theta_test.append(J_theta_test)\n",
    "    itr.append(i)\n",
    "    \n",
    "    \n",
    "   "
   ]
  },
  {
   "cell_type": "code",
   "execution_count": null,
   "id": "7f99008a",
   "metadata": {},
   "outputs": [],
   "source": [
    "plt.plot( itr, plot_j_theta_train)\n",
    "plt.xlabel(\"iteration\")\n",
    "plt.ylabel(\"costfxn\")\n"
   ]
  },
  {
   "cell_type": "code",
   "execution_count": null,
   "id": "d144be1e",
   "metadata": {},
   "outputs": [],
   "source": [
    "x_test=X.loc[slicer:]\n",
    "y_test = df.loc[slicer:, {'total_points'}]"
   ]
  },
  {
   "cell_type": "code",
   "execution_count": null,
   "id": "74189cf6",
   "metadata": {},
   "outputs": [],
   "source": []
  },
  {
   "cell_type": "code",
   "execution_count": null,
   "id": "bb400701",
   "metadata": {},
   "outputs": [],
   "source": [
    "x_test = x_test.to_numpy()\n",
    "y_test = y_test.to_numpy()"
   ]
  },
  {
   "cell_type": "code",
   "execution_count": null,
   "id": "810d4082",
   "metadata": {},
   "outputs": [],
   "source": [
    "x_test = np.concatenate((np.ones((x_test.shape[0],1)) , x_test) , axis = 1 )"
   ]
  },
  {
   "cell_type": "code",
   "execution_count": null,
   "id": "c1d22649",
   "metadata": {},
   "outputs": [],
   "source": []
  },
  {
   "cell_type": "code",
   "execution_count": null,
   "id": "2b882d44",
   "metadata": {},
   "outputs": [],
   "source": [
    "prediction = np.matmul(x_test , theta)"
   ]
  },
  {
   "cell_type": "code",
   "execution_count": null,
   "id": "ae766bb7",
   "metadata": {},
   "outputs": [],
   "source": [
    "prediction"
   ]
  },
  {
   "cell_type": "code",
   "execution_count": null,
   "id": "0299bb79",
   "metadata": {
    "scrolled": true
   },
   "outputs": [],
   "source": [
    "prediction = (prediction*std)+ mean\n",
    "y_test = (y_test*std)+mean"
   ]
  },
  {
   "cell_type": "code",
   "execution_count": null,
   "id": "46d3093f",
   "metadata": {},
   "outputs": [],
   "source": [
    "prediction"
   ]
  },
  {
   "cell_type": "code",
   "execution_count": null,
   "id": "8765a644",
   "metadata": {},
   "outputs": [],
   "source": [
    "predicted_value = pd.DataFrame(prediction,columns = ['prediction'])"
   ]
  },
  {
   "cell_type": "code",
   "execution_count": null,
   "id": "ea3a9c81",
   "metadata": {},
   "outputs": [],
   "source": [
    "predicted_value =predicted_value.to_numpy()"
   ]
  },
  {
   "cell_type": "code",
   "execution_count": null,
   "id": "dd131bbe",
   "metadata": {},
   "outputs": [],
   "source": [
    "error = ((predicted_value - y_test)/predicted_value)*100"
   ]
  },
  {
   "cell_type": "code",
   "execution_count": null,
   "id": "22f333c3",
   "metadata": {},
   "outputs": [],
   "source": [
    "error"
   ]
  },
  {
   "cell_type": "markdown",
   "id": "309de7e3",
   "metadata": {},
   "source": [
    "predicted_value"
   ]
  },
  {
   "cell_type": "code",
   "execution_count": null,
   "id": "5f921f22",
   "metadata": {},
   "outputs": [],
   "source": [
    "y_test"
   ]
  },
  {
   "cell_type": "code",
   "execution_count": null,
   "id": "73ec9d22",
   "metadata": {},
   "outputs": [],
   "source": []
  }
 ],
 "metadata": {
  "kernelspec": {
   "display_name": "Python 3 (ipykernel)",
   "language": "python",
   "name": "python3"
  },
  "language_info": {
   "codemirror_mode": {
    "name": "ipython",
    "version": 3
   },
   "file_extension": ".py",
   "mimetype": "text/x-python",
   "name": "python",
   "nbconvert_exporter": "python",
   "pygments_lexer": "ipython3",
   "version": "3.8.10"
  }
 },
 "nbformat": 4,
 "nbformat_minor": 5
}
